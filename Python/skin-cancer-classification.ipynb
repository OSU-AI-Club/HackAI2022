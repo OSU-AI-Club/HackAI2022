{
 "cells": [
  {
   "cell_type": "code",
   "execution_count": 1,
   "metadata": {
    "_cell_guid": "b1076dfc-b9ad-4769-8c92-a6c4dae69d19",
    "_uuid": "8f2839f25d086af736a60e9eeb907d3b93b6e0e5",
    "execution": {
     "iopub.execute_input": "2020-08-12T02:18:32.956723Z",
     "iopub.status.busy": "2020-08-12T02:18:32.955937Z",
     "iopub.status.idle": "2020-08-12T02:18:40.096293Z",
     "shell.execute_reply": "2020-08-12T02:18:40.095116Z"
    },
    "papermill": {
     "duration": 7.163177,
     "end_time": "2020-08-12T02:18:40.096437",
     "exception": false,
     "start_time": "2020-08-12T02:18:32.933260",
     "status": "completed"
    },
    "tags": []
   },
   "outputs": [],
   "source": [
    "import os\n",
    "import pandas as pd\n",
    "import numpy as np\n",
    "import matplotlib.pyplot as p\n",
    "import PIL as pil\n",
    "from tensorflow.keras.preprocessing.image import ImageDataGenerator\n",
    "from tensorflow.keras.utils import to_categorical,normalize\n",
    "from sklearn.model_selection import train_test_split\n",
    "from tqdm import tqdm\n",
    "from keras import regularizers\n",
    "import seaborn as sns\n",
    "%matplotlib inline\n",
    "import seaborn as sns\n",
    "from tensorflow.keras.layers import Flatten,Dense,Dropout,BatchNormalization,Conv2D,MaxPooling2D\n",
    "from tensorflow.keras.models import Sequential\n",
    "from tensorflow.keras.metrics import Recall\n",
    "from tensorflow.keras.optimizers import RMSprop\n",
    "from tensorflow.keras.callbacks import EarlyStopping,ReduceLROnPlateau\n",
    "from sklearn.metrics import classification_report,confusion_matrix\n",
    "\n"
   ]
  },
  {
   "cell_type": "code",
   "execution_count": 4,
   "metadata": {
    "_cell_guid": "79c7e3d0-c299-4dcb-8224-4455121ee9b0",
    "_uuid": "d629ff2d2480ee46fbb7e2d37f6b5fab8052498a",
    "execution": {
     "iopub.execute_input": "2020-08-12T02:18:40.118850Z",
     "iopub.status.busy": "2020-08-12T02:18:40.116978Z",
     "iopub.status.idle": "2020-08-12T02:18:40.119612Z",
     "shell.execute_reply": "2020-08-12T02:18:40.120085Z"
    },
    "papermill": {
     "duration": 0.015104,
     "end_time": "2020-08-12T02:18:40.120204",
     "exception": false,
     "start_time": "2020-08-12T02:18:40.105100",
     "status": "completed"
    },
    "tags": []
   },
   "outputs": [],
   "source": [
    "base='HAM10000_metadata.csv'"
   ]
  },
  {
   "cell_type": "markdown",
   "metadata": {
    "papermill": {
     "duration": 0.007505,
     "end_time": "2020-08-12T02:18:40.135563",
     "exception": false,
     "start_time": "2020-08-12T02:18:40.128058",
     "status": "completed"
    },
    "tags": []
   },
   "source": [
    "# **Accessing Dataset**"
   ]
  },
  {
   "cell_type": "code",
   "execution_count": 6,
   "metadata": {
    "execution": {
     "iopub.execute_input": "2020-08-12T02:18:40.160793Z",
     "iopub.status.busy": "2020-08-12T02:18:40.160221Z",
     "iopub.status.idle": "2020-08-12T02:18:40.211243Z",
     "shell.execute_reply": "2020-08-12T02:18:40.211830Z"
    },
    "papermill": {
     "duration": 0.068523,
     "end_time": "2020-08-12T02:18:40.211981",
     "exception": false,
     "start_time": "2020-08-12T02:18:40.143458",
     "status": "completed"
    },
    "tags": []
   },
   "outputs": [
    {
     "name": "stdout",
     "output_type": "stream",
     "text": [
      "<class 'pandas.core.frame.DataFrame'>\n",
      "RangeIndex: 10015 entries, 0 to 10014\n",
      "Data columns (total 7 columns):\n",
      " #   Column        Non-Null Count  Dtype  \n",
      "---  ------        --------------  -----  \n",
      " 0   lesion_id     10015 non-null  object \n",
      " 1   image_id      10015 non-null  object \n",
      " 2   dx            10015 non-null  object \n",
      " 3   dx_type       10015 non-null  object \n",
      " 4   age           9958 non-null   float64\n",
      " 5   sex           10015 non-null  object \n",
      " 6   localization  10015 non-null  object \n",
      "dtypes: float64(1), object(6)\n",
      "memory usage: 547.8+ KB\n"
     ]
    }
   ],
   "source": [
    "metadata=pd.read_csv(base)\n",
    "metadata.info()"
   ]
  },
  {
   "cell_type": "markdown",
   "metadata": {
    "papermill": {
     "duration": 0.00926,
     "end_time": "2020-08-12T02:18:40.229822",
     "exception": false,
     "start_time": "2020-08-12T02:18:40.220562",
     "status": "completed"
    },
    "tags": []
   },
   "source": [
    "# **Data Visualization**"
   ]
  },
  {
   "cell_type": "code",
   "execution_count": 7,
   "metadata": {
    "execution": {
     "iopub.execute_input": "2020-08-12T02:18:40.258256Z",
     "iopub.status.busy": "2020-08-12T02:18:40.257325Z",
     "iopub.status.idle": "2020-08-12T02:18:40.268049Z",
     "shell.execute_reply": "2020-08-12T02:18:40.268568Z"
    },
    "papermill": {
     "duration": 0.030856,
     "end_time": "2020-08-12T02:18:40.268703",
     "exception": false,
     "start_time": "2020-08-12T02:18:40.237847",
     "status": "completed"
    },
    "tags": []
   },
   "outputs": [
    {
     "data": {
      "text/html": [
       "<div>\n",
       "<style scoped>\n",
       "    .dataframe tbody tr th:only-of-type {\n",
       "        vertical-align: middle;\n",
       "    }\n",
       "\n",
       "    .dataframe tbody tr th {\n",
       "        vertical-align: top;\n",
       "    }\n",
       "\n",
       "    .dataframe thead th {\n",
       "        text-align: right;\n",
       "    }\n",
       "</style>\n",
       "<table border=\"1\" class=\"dataframe\">\n",
       "  <thead>\n",
       "    <tr style=\"text-align: right;\">\n",
       "      <th></th>\n",
       "      <th>lesion_id</th>\n",
       "      <th>image_id</th>\n",
       "      <th>dx</th>\n",
       "      <th>dx_type</th>\n",
       "      <th>age</th>\n",
       "      <th>sex</th>\n",
       "      <th>localization</th>\n",
       "    </tr>\n",
       "  </thead>\n",
       "  <tbody>\n",
       "    <tr>\n",
       "      <th>0</th>\n",
       "      <td>HAM_0000118</td>\n",
       "      <td>ISIC_0027419</td>\n",
       "      <td>bkl</td>\n",
       "      <td>histo</td>\n",
       "      <td>80.0</td>\n",
       "      <td>male</td>\n",
       "      <td>scalp</td>\n",
       "    </tr>\n",
       "    <tr>\n",
       "      <th>1</th>\n",
       "      <td>HAM_0000118</td>\n",
       "      <td>ISIC_0025030</td>\n",
       "      <td>bkl</td>\n",
       "      <td>histo</td>\n",
       "      <td>80.0</td>\n",
       "      <td>male</td>\n",
       "      <td>scalp</td>\n",
       "    </tr>\n",
       "    <tr>\n",
       "      <th>2</th>\n",
       "      <td>HAM_0002730</td>\n",
       "      <td>ISIC_0026769</td>\n",
       "      <td>bkl</td>\n",
       "      <td>histo</td>\n",
       "      <td>80.0</td>\n",
       "      <td>male</td>\n",
       "      <td>scalp</td>\n",
       "    </tr>\n",
       "    <tr>\n",
       "      <th>3</th>\n",
       "      <td>HAM_0002730</td>\n",
       "      <td>ISIC_0025661</td>\n",
       "      <td>bkl</td>\n",
       "      <td>histo</td>\n",
       "      <td>80.0</td>\n",
       "      <td>male</td>\n",
       "      <td>scalp</td>\n",
       "    </tr>\n",
       "    <tr>\n",
       "      <th>4</th>\n",
       "      <td>HAM_0001466</td>\n",
       "      <td>ISIC_0031633</td>\n",
       "      <td>bkl</td>\n",
       "      <td>histo</td>\n",
       "      <td>75.0</td>\n",
       "      <td>male</td>\n",
       "      <td>ear</td>\n",
       "    </tr>\n",
       "  </tbody>\n",
       "</table>\n",
       "</div>"
      ],
      "text/plain": [
       "     lesion_id      image_id   dx dx_type   age   sex localization\n",
       "0  HAM_0000118  ISIC_0027419  bkl   histo  80.0  male        scalp\n",
       "1  HAM_0000118  ISIC_0025030  bkl   histo  80.0  male        scalp\n",
       "2  HAM_0002730  ISIC_0026769  bkl   histo  80.0  male        scalp\n",
       "3  HAM_0002730  ISIC_0025661  bkl   histo  80.0  male        scalp\n",
       "4  HAM_0001466  ISIC_0031633  bkl   histo  75.0  male          ear"
      ]
     },
     "execution_count": 7,
     "metadata": {},
     "output_type": "execute_result"
    }
   ],
   "source": [
    "#To analyse basics of Dataset we study first 5 rows of HAAM10000 Dataset\n",
    "metadata.head()"
   ]
  },
  {
   "cell_type": "code",
   "execution_count": 8,
   "metadata": {
    "execution": {
     "iopub.execute_input": "2020-08-12T02:18:40.297641Z",
     "iopub.status.busy": "2020-08-12T02:18:40.296648Z",
     "iopub.status.idle": "2020-08-12T02:18:40.303745Z",
     "shell.execute_reply": "2020-08-12T02:18:40.303273Z"
    },
    "papermill": {
     "duration": 0.026295,
     "end_time": "2020-08-12T02:18:40.303841",
     "exception": false,
     "start_time": "2020-08-12T02:18:40.277546",
     "status": "completed"
    },
    "tags": []
   },
   "outputs": [
    {
     "data": {
      "text/plain": [
       "lesion_id       0\n",
       "image_id        0\n",
       "dx              0\n",
       "dx_type         0\n",
       "age             0\n",
       "sex             0\n",
       "localization    0\n",
       "dtype: int64"
      ]
     },
     "execution_count": 8,
     "metadata": {},
     "output_type": "execute_result"
    }
   ],
   "source": [
    "#Checking for NA\n",
    "metadata.isna().isna().sum()"
   ]
  },
  {
   "cell_type": "code",
   "execution_count": 9,
   "metadata": {
    "execution": {
     "iopub.execute_input": "2020-08-12T02:18:40.334513Z",
     "iopub.status.busy": "2020-08-12T02:18:40.333476Z",
     "iopub.status.idle": "2020-08-12T02:18:40.389390Z",
     "shell.execute_reply": "2020-08-12T02:18:40.389925Z"
    },
    "papermill": {
     "duration": 0.077735,
     "end_time": "2020-08-12T02:18:40.390075",
     "exception": false,
     "start_time": "2020-08-12T02:18:40.312340",
     "status": "completed"
    },
    "tags": []
   },
   "outputs": [
    {
     "data": {
      "text/html": [
       "<div>\n",
       "<style scoped>\n",
       "    .dataframe tbody tr th:only-of-type {\n",
       "        vertical-align: middle;\n",
       "    }\n",
       "\n",
       "    .dataframe tbody tr th {\n",
       "        vertical-align: top;\n",
       "    }\n",
       "\n",
       "    .dataframe thead th {\n",
       "        text-align: right;\n",
       "    }\n",
       "</style>\n",
       "<table border=\"1\" class=\"dataframe\">\n",
       "  <thead>\n",
       "    <tr style=\"text-align: right;\">\n",
       "      <th></th>\n",
       "      <th>lesion_id</th>\n",
       "      <th>image_id</th>\n",
       "      <th>dx</th>\n",
       "      <th>dx_type</th>\n",
       "      <th>age</th>\n",
       "      <th>sex</th>\n",
       "      <th>localization</th>\n",
       "    </tr>\n",
       "  </thead>\n",
       "  <tbody>\n",
       "    <tr>\n",
       "      <th>count</th>\n",
       "      <td>10015</td>\n",
       "      <td>10015</td>\n",
       "      <td>10015</td>\n",
       "      <td>10015</td>\n",
       "      <td>9958.000000</td>\n",
       "      <td>10015</td>\n",
       "      <td>10015</td>\n",
       "    </tr>\n",
       "    <tr>\n",
       "      <th>unique</th>\n",
       "      <td>7470</td>\n",
       "      <td>10015</td>\n",
       "      <td>7</td>\n",
       "      <td>4</td>\n",
       "      <td>NaN</td>\n",
       "      <td>3</td>\n",
       "      <td>15</td>\n",
       "    </tr>\n",
       "    <tr>\n",
       "      <th>top</th>\n",
       "      <td>HAM_0003789</td>\n",
       "      <td>ISIC_0027419</td>\n",
       "      <td>nv</td>\n",
       "      <td>histo</td>\n",
       "      <td>NaN</td>\n",
       "      <td>male</td>\n",
       "      <td>back</td>\n",
       "    </tr>\n",
       "    <tr>\n",
       "      <th>freq</th>\n",
       "      <td>6</td>\n",
       "      <td>1</td>\n",
       "      <td>6705</td>\n",
       "      <td>5340</td>\n",
       "      <td>NaN</td>\n",
       "      <td>5406</td>\n",
       "      <td>2192</td>\n",
       "    </tr>\n",
       "    <tr>\n",
       "      <th>mean</th>\n",
       "      <td>NaN</td>\n",
       "      <td>NaN</td>\n",
       "      <td>NaN</td>\n",
       "      <td>NaN</td>\n",
       "      <td>51.863828</td>\n",
       "      <td>NaN</td>\n",
       "      <td>NaN</td>\n",
       "    </tr>\n",
       "    <tr>\n",
       "      <th>std</th>\n",
       "      <td>NaN</td>\n",
       "      <td>NaN</td>\n",
       "      <td>NaN</td>\n",
       "      <td>NaN</td>\n",
       "      <td>16.968614</td>\n",
       "      <td>NaN</td>\n",
       "      <td>NaN</td>\n",
       "    </tr>\n",
       "    <tr>\n",
       "      <th>min</th>\n",
       "      <td>NaN</td>\n",
       "      <td>NaN</td>\n",
       "      <td>NaN</td>\n",
       "      <td>NaN</td>\n",
       "      <td>0.000000</td>\n",
       "      <td>NaN</td>\n",
       "      <td>NaN</td>\n",
       "    </tr>\n",
       "    <tr>\n",
       "      <th>25%</th>\n",
       "      <td>NaN</td>\n",
       "      <td>NaN</td>\n",
       "      <td>NaN</td>\n",
       "      <td>NaN</td>\n",
       "      <td>40.000000</td>\n",
       "      <td>NaN</td>\n",
       "      <td>NaN</td>\n",
       "    </tr>\n",
       "    <tr>\n",
       "      <th>50%</th>\n",
       "      <td>NaN</td>\n",
       "      <td>NaN</td>\n",
       "      <td>NaN</td>\n",
       "      <td>NaN</td>\n",
       "      <td>50.000000</td>\n",
       "      <td>NaN</td>\n",
       "      <td>NaN</td>\n",
       "    </tr>\n",
       "    <tr>\n",
       "      <th>75%</th>\n",
       "      <td>NaN</td>\n",
       "      <td>NaN</td>\n",
       "      <td>NaN</td>\n",
       "      <td>NaN</td>\n",
       "      <td>65.000000</td>\n",
       "      <td>NaN</td>\n",
       "      <td>NaN</td>\n",
       "    </tr>\n",
       "    <tr>\n",
       "      <th>max</th>\n",
       "      <td>NaN</td>\n",
       "      <td>NaN</td>\n",
       "      <td>NaN</td>\n",
       "      <td>NaN</td>\n",
       "      <td>85.000000</td>\n",
       "      <td>NaN</td>\n",
       "      <td>NaN</td>\n",
       "    </tr>\n",
       "  </tbody>\n",
       "</table>\n",
       "</div>"
      ],
      "text/plain": [
       "          lesion_id      image_id     dx dx_type          age    sex  \\\n",
       "count         10015         10015  10015   10015  9958.000000  10015   \n",
       "unique         7470         10015      7       4          NaN      3   \n",
       "top     HAM_0003789  ISIC_0027419     nv   histo          NaN   male   \n",
       "freq              6             1   6705    5340          NaN   5406   \n",
       "mean            NaN           NaN    NaN     NaN    51.863828    NaN   \n",
       "std             NaN           NaN    NaN     NaN    16.968614    NaN   \n",
       "min             NaN           NaN    NaN     NaN     0.000000    NaN   \n",
       "25%             NaN           NaN    NaN     NaN    40.000000    NaN   \n",
       "50%             NaN           NaN    NaN     NaN    50.000000    NaN   \n",
       "75%             NaN           NaN    NaN     NaN    65.000000    NaN   \n",
       "max             NaN           NaN    NaN     NaN    85.000000    NaN   \n",
       "\n",
       "       localization  \n",
       "count         10015  \n",
       "unique           15  \n",
       "top            back  \n",
       "freq           2192  \n",
       "mean            NaN  \n",
       "std             NaN  \n",
       "min             NaN  \n",
       "25%             NaN  \n",
       "50%             NaN  \n",
       "75%             NaN  \n",
       "max             NaN  "
      ]
     },
     "execution_count": 9,
     "metadata": {},
     "output_type": "execute_result"
    }
   ],
   "source": [
    "metadata.describe(include='all')"
   ]
  },
  {
   "cell_type": "code",
   "execution_count": 10,
   "metadata": {
    "execution": {
     "iopub.execute_input": "2020-08-12T02:18:40.417658Z",
     "iopub.status.busy": "2020-08-12T02:18:40.416684Z",
     "iopub.status.idle": "2020-08-12T02:18:40.754391Z",
     "shell.execute_reply": "2020-08-12T02:18:40.753807Z"
    },
    "papermill": {
     "duration": 0.355197,
     "end_time": "2020-08-12T02:18:40.754517",
     "exception": false,
     "start_time": "2020-08-12T02:18:40.399320",
     "status": "completed"
    },
    "tags": []
   },
   "outputs": [
    {
     "data": {
      "text/plain": [
       "<seaborn.axisgrid.FacetGrid at 0x14c96e1c0>"
      ]
     },
     "execution_count": 10,
     "metadata": {},
     "output_type": "execute_result"
    },
    {
     "data": {
      "image/png": "[encoded data removed]",
      "text/plain": [
       "<Figure size 1152x576 with 1 Axes>"
      ]
     },
     "metadata": {
      "needs_background": "light"
     },
     "output_type": "display_data"
    }
   ],
   "source": [
    "\n",
    "# We need to predict the cancer type, let's check the distribution of the values\n",
    "g = sns.catplot(x=\"dx\", kind=\"count\", palette='bright', data=metadata)\n",
    "g.fig.set_size_inches(16, 8)\n",
    "\n",
    "g.ax.set_title('Visualization of Output Classes', fontsize=20)\n",
    "g.set_xlabels('Classes of Skin Cancer', fontsize=14)\n",
    "g.set_ylabels('Frequency', fontsize=14)"
   ]
  },
  {
   "cell_type": "markdown",
   "metadata": {
    "papermill": {
     "duration": 0.009234,
     "end_time": "2020-08-12T02:18:40.774169",
     "exception": false,
     "start_time": "2020-08-12T02:18:40.764935",
     "status": "completed"
    },
    "tags": []
   },
   "source": [
    "# Getting trainable from CSV file"
   ]
  },
  {
   "cell_type": "code",
   "execution_count": 12,
   "metadata": {
    "execution": {
     "iopub.execute_input": "2020-08-12T02:18:40.801606Z",
     "iopub.status.busy": "2020-08-12T02:18:40.800994Z",
     "iopub.status.idle": "2020-08-12T02:18:44.965504Z",
     "shell.execute_reply": "2020-08-12T02:18:44.964885Z"
    },
    "papermill": {
     "duration": 4.181913,
     "end_time": "2020-08-12T02:18:44.965625",
     "exception": false,
     "start_time": "2020-08-12T02:18:40.783712",
     "status": "completed"
    },
    "tags": []
   },
   "outputs": [],
   "source": [
    "df=pd.read_csv('hmnist_28_28_RGB.csv')\n",
    "x=df.drop('label',axis=1)\n",
    "y=df['label']\n",
    "x=x.to_numpy()\n",
    "x=x/255\n",
    "y=to_categorical(y)"
   ]
  },
  {
   "cell_type": "code",
   "execution_count": 13,
   "metadata": {
    "execution": {
     "iopub.execute_input": "2020-08-12T02:18:44.990626Z",
     "iopub.status.busy": "2020-08-12T02:18:44.989804Z",
     "iopub.status.idle": "2020-08-12T02:18:45.013619Z",
     "shell.execute_reply": "2020-08-12T02:18:45.014106Z"
    },
    "papermill": {
     "duration": 0.038696,
     "end_time": "2020-08-12T02:18:45.014230",
     "exception": false,
     "start_time": "2020-08-12T02:18:44.975534",
     "status": "completed"
    },
    "tags": []
   },
   "outputs": [
    {
     "data": {
      "text/html": [
       "<div>\n",
       "<style scoped>\n",
       "    .dataframe tbody tr th:only-of-type {\n",
       "        vertical-align: middle;\n",
       "    }\n",
       "\n",
       "    .dataframe tbody tr th {\n",
       "        vertical-align: top;\n",
       "    }\n",
       "\n",
       "    .dataframe thead th {\n",
       "        text-align: right;\n",
       "    }\n",
       "</style>\n",
       "<table border=\"1\" class=\"dataframe\">\n",
       "  <thead>\n",
       "    <tr style=\"text-align: right;\">\n",
       "      <th></th>\n",
       "      <th>pixel0000</th>\n",
       "      <th>pixel0001</th>\n",
       "      <th>pixel0002</th>\n",
       "      <th>pixel0003</th>\n",
       "      <th>pixel0004</th>\n",
       "      <th>pixel0005</th>\n",
       "      <th>pixel0006</th>\n",
       "      <th>pixel0007</th>\n",
       "      <th>pixel0008</th>\n",
       "      <th>pixel0009</th>\n",
       "      <th>...</th>\n",
       "      <th>pixel2343</th>\n",
       "      <th>pixel2344</th>\n",
       "      <th>pixel2345</th>\n",
       "      <th>pixel2346</th>\n",
       "      <th>pixel2347</th>\n",
       "      <th>pixel2348</th>\n",
       "      <th>pixel2349</th>\n",
       "      <th>pixel2350</th>\n",
       "      <th>pixel2351</th>\n",
       "      <th>label</th>\n",
       "    </tr>\n",
       "  </thead>\n",
       "  <tbody>\n",
       "    <tr>\n",
       "      <th>0</th>\n",
       "      <td>192</td>\n",
       "      <td>153</td>\n",
       "      <td>193</td>\n",
       "      <td>195</td>\n",
       "      <td>155</td>\n",
       "      <td>192</td>\n",
       "      <td>197</td>\n",
       "      <td>154</td>\n",
       "      <td>185</td>\n",
       "      <td>202</td>\n",
       "      <td>...</td>\n",
       "      <td>173</td>\n",
       "      <td>124</td>\n",
       "      <td>138</td>\n",
       "      <td>183</td>\n",
       "      <td>147</td>\n",
       "      <td>166</td>\n",
       "      <td>185</td>\n",
       "      <td>154</td>\n",
       "      <td>177</td>\n",
       "      <td>2</td>\n",
       "    </tr>\n",
       "    <tr>\n",
       "      <th>1</th>\n",
       "      <td>25</td>\n",
       "      <td>14</td>\n",
       "      <td>30</td>\n",
       "      <td>68</td>\n",
       "      <td>48</td>\n",
       "      <td>75</td>\n",
       "      <td>123</td>\n",
       "      <td>93</td>\n",
       "      <td>126</td>\n",
       "      <td>158</td>\n",
       "      <td>...</td>\n",
       "      <td>60</td>\n",
       "      <td>39</td>\n",
       "      <td>55</td>\n",
       "      <td>25</td>\n",
       "      <td>14</td>\n",
       "      <td>28</td>\n",
       "      <td>25</td>\n",
       "      <td>14</td>\n",
       "      <td>27</td>\n",
       "      <td>2</td>\n",
       "    </tr>\n",
       "    <tr>\n",
       "      <th>2</th>\n",
       "      <td>192</td>\n",
       "      <td>138</td>\n",
       "      <td>153</td>\n",
       "      <td>200</td>\n",
       "      <td>145</td>\n",
       "      <td>163</td>\n",
       "      <td>201</td>\n",
       "      <td>142</td>\n",
       "      <td>160</td>\n",
       "      <td>206</td>\n",
       "      <td>...</td>\n",
       "      <td>167</td>\n",
       "      <td>129</td>\n",
       "      <td>143</td>\n",
       "      <td>159</td>\n",
       "      <td>124</td>\n",
       "      <td>142</td>\n",
       "      <td>136</td>\n",
       "      <td>104</td>\n",
       "      <td>117</td>\n",
       "      <td>2</td>\n",
       "    </tr>\n",
       "    <tr>\n",
       "      <th>3</th>\n",
       "      <td>38</td>\n",
       "      <td>19</td>\n",
       "      <td>30</td>\n",
       "      <td>95</td>\n",
       "      <td>59</td>\n",
       "      <td>72</td>\n",
       "      <td>143</td>\n",
       "      <td>103</td>\n",
       "      <td>119</td>\n",
       "      <td>171</td>\n",
       "      <td>...</td>\n",
       "      <td>44</td>\n",
       "      <td>26</td>\n",
       "      <td>36</td>\n",
       "      <td>25</td>\n",
       "      <td>12</td>\n",
       "      <td>17</td>\n",
       "      <td>25</td>\n",
       "      <td>12</td>\n",
       "      <td>15</td>\n",
       "      <td>2</td>\n",
       "    </tr>\n",
       "    <tr>\n",
       "      <th>4</th>\n",
       "      <td>158</td>\n",
       "      <td>113</td>\n",
       "      <td>139</td>\n",
       "      <td>194</td>\n",
       "      <td>144</td>\n",
       "      <td>174</td>\n",
       "      <td>215</td>\n",
       "      <td>162</td>\n",
       "      <td>191</td>\n",
       "      <td>225</td>\n",
       "      <td>...</td>\n",
       "      <td>209</td>\n",
       "      <td>166</td>\n",
       "      <td>185</td>\n",
       "      <td>172</td>\n",
       "      <td>135</td>\n",
       "      <td>149</td>\n",
       "      <td>109</td>\n",
       "      <td>78</td>\n",
       "      <td>92</td>\n",
       "      <td>2</td>\n",
       "    </tr>\n",
       "    <tr>\n",
       "      <th>...</th>\n",
       "      <td>...</td>\n",
       "      <td>...</td>\n",
       "      <td>...</td>\n",
       "      <td>...</td>\n",
       "      <td>...</td>\n",
       "      <td>...</td>\n",
       "      <td>...</td>\n",
       "      <td>...</td>\n",
       "      <td>...</td>\n",
       "      <td>...</td>\n",
       "      <td>...</td>\n",
       "      <td>...</td>\n",
       "      <td>...</td>\n",
       "      <td>...</td>\n",
       "      <td>...</td>\n",
       "      <td>...</td>\n",
       "      <td>...</td>\n",
       "      <td>...</td>\n",
       "      <td>...</td>\n",
       "      <td>...</td>\n",
       "      <td>...</td>\n",
       "    </tr>\n",
       "    <tr>\n",
       "      <th>10010</th>\n",
       "      <td>183</td>\n",
       "      <td>165</td>\n",
       "      <td>181</td>\n",
       "      <td>182</td>\n",
       "      <td>165</td>\n",
       "      <td>180</td>\n",
       "      <td>184</td>\n",
       "      <td>166</td>\n",
       "      <td>182</td>\n",
       "      <td>188</td>\n",
       "      <td>...</td>\n",
       "      <td>208</td>\n",
       "      <td>185</td>\n",
       "      <td>187</td>\n",
       "      <td>208</td>\n",
       "      <td>186</td>\n",
       "      <td>186</td>\n",
       "      <td>206</td>\n",
       "      <td>187</td>\n",
       "      <td>189</td>\n",
       "      <td>0</td>\n",
       "    </tr>\n",
       "    <tr>\n",
       "      <th>10011</th>\n",
       "      <td>2</td>\n",
       "      <td>3</td>\n",
       "      <td>1</td>\n",
       "      <td>38</td>\n",
       "      <td>33</td>\n",
       "      <td>32</td>\n",
       "      <td>121</td>\n",
       "      <td>104</td>\n",
       "      <td>103</td>\n",
       "      <td>132</td>\n",
       "      <td>...</td>\n",
       "      <td>96</td>\n",
       "      <td>79</td>\n",
       "      <td>76</td>\n",
       "      <td>24</td>\n",
       "      <td>23</td>\n",
       "      <td>21</td>\n",
       "      <td>3</td>\n",
       "      <td>4</td>\n",
       "      <td>1</td>\n",
       "      <td>0</td>\n",
       "    </tr>\n",
       "    <tr>\n",
       "      <th>10012</th>\n",
       "      <td>132</td>\n",
       "      <td>118</td>\n",
       "      <td>118</td>\n",
       "      <td>167</td>\n",
       "      <td>149</td>\n",
       "      <td>149</td>\n",
       "      <td>175</td>\n",
       "      <td>156</td>\n",
       "      <td>160</td>\n",
       "      <td>184</td>\n",
       "      <td>...</td>\n",
       "      <td>204</td>\n",
       "      <td>181</td>\n",
       "      <td>178</td>\n",
       "      <td>181</td>\n",
       "      <td>159</td>\n",
       "      <td>153</td>\n",
       "      <td>172</td>\n",
       "      <td>151</td>\n",
       "      <td>145</td>\n",
       "      <td>0</td>\n",
       "    </tr>\n",
       "    <tr>\n",
       "      <th>10013</th>\n",
       "      <td>160</td>\n",
       "      <td>124</td>\n",
       "      <td>146</td>\n",
       "      <td>164</td>\n",
       "      <td>131</td>\n",
       "      <td>152</td>\n",
       "      <td>167</td>\n",
       "      <td>127</td>\n",
       "      <td>146</td>\n",
       "      <td>169</td>\n",
       "      <td>...</td>\n",
       "      <td>185</td>\n",
       "      <td>162</td>\n",
       "      <td>167</td>\n",
       "      <td>184</td>\n",
       "      <td>157</td>\n",
       "      <td>166</td>\n",
       "      <td>185</td>\n",
       "      <td>162</td>\n",
       "      <td>172</td>\n",
       "      <td>0</td>\n",
       "    </tr>\n",
       "    <tr>\n",
       "      <th>10014</th>\n",
       "      <td>175</td>\n",
       "      <td>142</td>\n",
       "      <td>121</td>\n",
       "      <td>181</td>\n",
       "      <td>150</td>\n",
       "      <td>134</td>\n",
       "      <td>181</td>\n",
       "      <td>150</td>\n",
       "      <td>133</td>\n",
       "      <td>178</td>\n",
       "      <td>...</td>\n",
       "      <td>159</td>\n",
       "      <td>79</td>\n",
       "      <td>82</td>\n",
       "      <td>174</td>\n",
       "      <td>137</td>\n",
       "      <td>125</td>\n",
       "      <td>175</td>\n",
       "      <td>139</td>\n",
       "      <td>126</td>\n",
       "      <td>6</td>\n",
       "    </tr>\n",
       "  </tbody>\n",
       "</table>\n",
       "<p>10015 rows × 2353 columns</p>\n",
       "</div>"
      ],
      "text/plain": [
       "       pixel0000  pixel0001  pixel0002  pixel0003  pixel0004  pixel0005  \\\n",
       "0            192        153        193        195        155        192   \n",
       "1             25         14         30         68         48         75   \n",
       "2            192        138        153        200        145        163   \n",
       "3             38         19         30         95         59         72   \n",
       "4            158        113        139        194        144        174   \n",
       "...          ...        ...        ...        ...        ...        ...   \n",
       "10010        183        165        181        182        165        180   \n",
       "10011          2          3          1         38         33         32   \n",
       "10012        132        118        118        167        149        149   \n",
       "10013        160        124        146        164        131        152   \n",
       "10014        175        142        121        181        150        134   \n",
       "\n",
       "       pixel0006  pixel0007  pixel0008  pixel0009  ...  pixel2343  pixel2344  \\\n",
       "0            197        154        185        202  ...        173        124   \n",
       "1            123         93        126        158  ...         60         39   \n",
       "2            201        142        160        206  ...        167        129   \n",
       "3            143        103        119        171  ...         44         26   \n",
       "4            215        162        191        225  ...        209        166   \n",
       "...          ...        ...        ...        ...  ...        ...        ...   \n",
       "10010        184        166        182        188  ...        208        185   \n",
       "10011        121        104        103        132  ...         96         79   \n",
       "10012        175        156        160        184  ...        204        181   \n",
       "10013        167        127        146        169  ...        185        162   \n",
       "10014        181        150        133        178  ...        159         79   \n",
       "\n",
       "       pixel2345  pixel2346  pixel2347  pixel2348  pixel2349  pixel2350  \\\n",
       "0            138        183        147        166        185        154   \n",
       "1             55         25         14         28         25         14   \n",
       "2            143        159        124        142        136        104   \n",
       "3             36         25         12         17         25         12   \n",
       "4            185        172        135        149        109         78   \n",
       "...          ...        ...        ...        ...        ...        ...   \n",
       "10010        187        208        186        186        206        187   \n",
       "10011         76         24         23         21          3          4   \n",
       "10012        178        181        159        153        172        151   \n",
       "10013        167        184        157        166        185        162   \n",
       "10014         82        174        137        125        175        139   \n",
       "\n",
       "       pixel2351  label  \n",
       "0            177      2  \n",
       "1             27      2  \n",
       "2            117      2  \n",
       "3             15      2  \n",
       "4             92      2  \n",
       "...          ...    ...  \n",
       "10010        189      0  \n",
       "10011          1      0  \n",
       "10012        145      0  \n",
       "10013        172      0  \n",
       "10014        126      6  \n",
       "\n",
       "[10015 rows x 2353 columns]"
      ]
     },
     "execution_count": 13,
     "metadata": {},
     "output_type": "execute_result"
    }
   ],
   "source": [
    "df"
   ]
  },
  {
   "cell_type": "code",
   "execution_count": 14,
   "metadata": {
    "execution": {
     "iopub.execute_input": "2020-08-12T02:18:45.040288Z",
     "iopub.status.busy": "2020-08-12T02:18:45.038436Z",
     "iopub.status.idle": "2020-08-12T02:18:45.040994Z",
     "shell.execute_reply": "2020-08-12T02:18:45.041487Z"
    },
    "papermill": {
     "duration": 0.017508,
     "end_time": "2020-08-12T02:18:45.041603",
     "exception": false,
     "start_time": "2020-08-12T02:18:45.024095",
     "status": "completed"
    },
    "tags": []
   },
   "outputs": [],
   "source": [
    "#Since there are 7 classes only, we can label them manually \n",
    "label={\n",
    "    ' Actinic keratoses':0,\n",
    "    'Basal cell carcinoma':1,\n",
    "    'Benign keratosis-like lesions':2,\n",
    "    'Dermatofibroma':3,\n",
    "    'Melanocytic nevi':4,\n",
    "    'Melanoma':5,\n",
    "    'Vascular lesions':6\n",
    "}"
   ]
  },
  {
   "cell_type": "markdown",
   "metadata": {
    "papermill": {
     "duration": 0.0095,
     "end_time": "2020-08-12T02:18:45.060800",
     "exception": false,
     "start_time": "2020-08-12T02:18:45.051300",
     "status": "completed"
    },
    "tags": []
   },
   "source": [
    "# **Images**"
   ]
  },
  {
   "cell_type": "code",
   "execution_count": 15,
   "metadata": {
    "execution": {
     "iopub.execute_input": "2020-08-12T02:18:45.093680Z",
     "iopub.status.busy": "2020-08-12T02:18:45.087491Z",
     "iopub.status.idle": "2020-08-12T02:18:49.678722Z",
     "shell.execute_reply": "2020-08-12T02:18:49.679217Z"
    },
    "papermill": {
     "duration": 4.607694,
     "end_time": "2020-08-12T02:18:49.679365",
     "exception": false,
     "start_time": "2020-08-12T02:18:45.071671",
     "status": "completed"
    },
    "tags": []
   },
   "outputs": [
    {
     "data": {
      "image/png": "[encoded data removed]",
      "text/plain": [
       "<Figure size 3600x2160 with 30 Axes>"
      ]
     },
     "metadata": {
      "needs_background": "light"
     },
     "output_type": "display_data"
    }
   ],
   "source": [
    "x=x.reshape(-1,28,28,3)\n",
    "p.figure(figsize=(50,30))\n",
    "for i in range(30):\n",
    "    p.subplot(6,5,i+1)\n",
    "    img=x[i]\n",
    "    p.imshow(img)"
   ]
  },
  {
   "cell_type": "markdown",
   "metadata": {
    "papermill": {
     "duration": 0.010937,
     "end_time": "2020-08-12T02:18:49.702185",
     "exception": false,
     "start_time": "2020-08-12T02:18:49.691248",
     "status": "completed"
    },
    "tags": []
   },
   "source": [
    "# Spliting of Dataset "
   ]
  },
  {
   "cell_type": "code",
   "execution_count": 16,
   "metadata": {
    "execution": {
     "iopub.execute_input": "2020-08-12T02:18:49.733755Z",
     "iopub.status.busy": "2020-08-12T02:18:49.732466Z",
     "iopub.status.idle": "2020-08-12T02:18:50.001450Z",
     "shell.execute_reply": "2020-08-12T02:18:50.000863Z"
    },
    "papermill": {
     "duration": 0.288004,
     "end_time": "2020-08-12T02:18:50.001580",
     "exception": false,
     "start_time": "2020-08-12T02:18:49.713576",
     "status": "completed"
    },
    "tags": []
   },
   "outputs": [],
   "source": [
    "trainx,trainy,testx,testy = train_test_split(x,y,test_size=0.02,random_state=42)"
   ]
  },
  {
   "cell_type": "markdown",
   "metadata": {
    "papermill": {
     "duration": 0.011249,
     "end_time": "2020-08-12T02:18:50.025437",
     "exception": false,
     "start_time": "2020-08-12T02:18:50.014188",
     "status": "completed"
    },
    "tags": []
   },
   "source": [
    "# Image Augmentation to expand Train data "
   ]
  },
  {
   "cell_type": "code",
   "execution_count": 17,
   "metadata": {
    "execution": {
     "iopub.execute_input": "2020-08-12T02:18:50.054980Z",
     "iopub.status.busy": "2020-08-12T02:18:50.054358Z",
     "iopub.status.idle": "2020-08-12T02:18:50.058982Z",
     "shell.execute_reply": "2020-08-12T02:18:50.058448Z"
    },
    "papermill": {
     "duration": 0.021749,
     "end_time": "2020-08-12T02:18:50.059106",
     "exception": false,
     "start_time": "2020-08-12T02:18:50.037357",
     "status": "completed"
    },
    "tags": []
   },
   "outputs": [],
   "source": [
    "data_generator=ImageDataGenerator(rotation_range=20, # rotate the image 20 degrees\n",
    "                               width_shift_range=0.10, # Shift the pic width by a max of 5%\n",
    "                               height_shift_range=0.10, # Shift the pic height by a max of 5%\n",
    "                               rescale=1/255, # Rescale the image by normalzing it.\n",
    "                               shear_range=0.1, # Shear means cutting away part of the image (max 10%)\n",
    "                               zoom_range=0.1, # Zoom in by 10% max\n",
    "                               horizontal_flip=True,\n",
    "                               vertical_flip=True,\n",
    "                               fill_mode='nearest')"
   ]
  },
  {
   "cell_type": "code",
   "execution_count": 18,
   "metadata": {
    "execution": {
     "iopub.execute_input": "2020-08-12T02:18:50.088281Z",
     "iopub.status.busy": "2020-08-12T02:18:50.087140Z",
     "iopub.status.idle": "2020-08-12T02:18:50.161482Z",
     "shell.execute_reply": "2020-08-12T02:18:50.161960Z"
    },
    "papermill": {
     "duration": 0.09082,
     "end_time": "2020-08-12T02:18:50.162137",
     "exception": false,
     "start_time": "2020-08-12T02:18:50.071317",
     "status": "completed"
    },
    "tags": []
   },
   "outputs": [],
   "source": [
    "data_generator.fit(trainx)"
   ]
  },
  {
   "cell_type": "markdown",
   "metadata": {
    "papermill": {
     "duration": 0.011199,
     "end_time": "2020-08-12T02:18:50.185476",
     "exception": false,
     "start_time": "2020-08-12T02:18:50.174277",
     "status": "completed"
    },
    "tags": []
   },
   "source": [
    "# CNN Model"
   ]
  },
  {
   "cell_type": "code",
   "execution_count": 19,
   "metadata": {
    "execution": {
     "iopub.execute_input": "2020-08-12T02:18:50.224599Z",
     "iopub.status.busy": "2020-08-12T02:18:50.223944Z",
     "iopub.status.idle": "2020-08-12T02:18:54.494683Z",
     "shell.execute_reply": "2020-08-12T02:18:54.493921Z"
    },
    "papermill": {
     "duration": 4.297593,
     "end_time": "2020-08-12T02:18:54.494815",
     "exception": false,
     "start_time": "2020-08-12T02:18:50.197222",
     "status": "completed"
    },
    "tags": []
   },
   "outputs": [
    {
     "name": "stderr",
     "output_type": "stream",
     "text": [
      "2022-03-06 00:10:14.240206: I tensorflow/core/platform/cpu_feature_guard.cc:151] This TensorFlow binary is optimized with oneAPI Deep Neural Network Library (oneDNN) to use the following CPU instructions in performance-critical operations:  AVX2 FMA\n",
      "To enable them in other operations, rebuild TensorFlow with the appropriate compiler flags.\n"
     ]
    }
   ],
   "source": [
    "#input_shape=(28,28,3)\n",
    "\n",
    "model=Sequential()\n",
    "\n",
    "\n",
    "model.add(Conv2D(64,(2,2),input_shape=(28,28,3),activation='relu'))\n",
    "model.add(MaxPooling2D(pool_size=(2, 2)))\n",
    "model.add(BatchNormalization())\n",
    "\n",
    "\n",
    "model.add(Conv2D(512,(2,2),input_shape=(28,28,3),activation='relu'))\n",
    "model.add(MaxPooling2D(pool_size=(2, 2)))\n",
    "\n",
    "\n",
    "\n",
    "model.add(Dropout(0.3))\n",
    "\n",
    "model.add(Conv2D(1024,(2,2),input_shape=(28,28,3),activation='relu'))\n",
    "model.add(MaxPooling2D(pool_size=(2, 2)))\n",
    "model.add(BatchNormalization())\n",
    "\n",
    "\n",
    "model.add(Dropout(0.4))\n",
    "\n",
    "model.add(Conv2D(1024,(1,1),input_shape=(28,28,3),activation='relu'))\n",
    "model.add(MaxPooling2D(pool_size=(1, 1)))\n",
    "\n",
    "\n",
    "\n",
    "model.add(Dropout(0.4))\n",
    "\n",
    "model.add(Flatten())\n",
    "\n",
    "model.add(Dense(256,activation='relu',kernel_regularizer=regularizers.l2(0.01)))\n",
    "model.add(Dropout(0.5))\n",
    "\n",
    "\n",
    "model.add(Dense(7,activation='softmax'))\n",
    "\n",
    "model.compile(optimizer='adam',loss='categorical_crossentropy',metrics=['accuracy',Recall()])"
   ]
  },
  {
   "cell_type": "code",
   "execution_count": 20,
   "metadata": {
    "execution": {
     "iopub.execute_input": "2020-08-12T02:18:54.525334Z",
     "iopub.status.busy": "2020-08-12T02:18:54.523300Z",
     "iopub.status.idle": "2020-08-12T02:18:54.535640Z",
     "shell.execute_reply": "2020-08-12T02:18:54.534776Z"
    },
    "papermill": {
     "duration": 0.028967,
     "end_time": "2020-08-12T02:18:54.535805",
     "exception": false,
     "start_time": "2020-08-12T02:18:54.506838",
     "status": "completed"
    },
    "tags": []
   },
   "outputs": [
    {
     "name": "stdout",
     "output_type": "stream",
     "text": [
      "Model: \"sequential\"\n",
      "_________________________________________________________________\n",
      " Layer (type)                Output Shape              Param #   \n",
      "=================================================================\n",
      " conv2d (Conv2D)             (None, 27, 27, 64)        832       \n",
      "                                                                 \n",
      " max_pooling2d (MaxPooling2D  (None, 13, 13, 64)       0         \n",
      " )                                                               \n",
      "                                                                 \n",
      " batch_normalization (BatchN  (None, 13, 13, 64)       256       \n",
      " ormalization)                                                   \n",
      "                                                                 \n",
      " conv2d_1 (Conv2D)           (None, 12, 12, 512)       131584    \n",
      "                                                                 \n",
      " max_pooling2d_1 (MaxPooling  (None, 6, 6, 512)        0         \n",
      " 2D)                                                             \n",
      "                                                                 \n",
      " dropout (Dropout)           (None, 6, 6, 512)         0         \n",
      "                                                                 \n",
      " conv2d_2 (Conv2D)           (None, 5, 5, 1024)        2098176   \n",
      "                                                                 \n",
      " max_pooling2d_2 (MaxPooling  (None, 2, 2, 1024)       0         \n",
      " 2D)                                                             \n",
      "                                                                 \n",
      " batch_normalization_1 (Batc  (None, 2, 2, 1024)       4096      \n",
      " hNormalization)                                                 \n",
      "                                                                 \n",
      " dropout_1 (Dropout)         (None, 2, 2, 1024)        0         \n",
      "                                                                 \n",
      " conv2d_3 (Conv2D)           (None, 2, 2, 1024)        1049600   \n",
      "                                                                 \n",
      " max_pooling2d_3 (MaxPooling  (None, 2, 2, 1024)       0         \n",
      " 2D)                                                             \n",
      "                                                                 \n",
      " dropout_2 (Dropout)         (None, 2, 2, 1024)        0         \n",
      "                                                                 \n",
      " flatten (Flatten)           (None, 4096)              0         \n",
      "                                                                 \n",
      " dense (Dense)               (None, 256)               1048832   \n",
      "                                                                 \n",
      " dropout_3 (Dropout)         (None, 256)               0         \n",
      "                                                                 \n",
      " dense_1 (Dense)             (None, 7)                 1799      \n",
      "                                                                 \n",
      "=================================================================\n",
      "Total params: 4,335,175\n",
      "Trainable params: 4,332,999\n",
      "Non-trainable params: 2,176\n",
      "_________________________________________________________________\n"
     ]
    }
   ],
   "source": [
    "#Reviewing our CNN model\n",
    "model.summary()"
   ]
  },
  {
   "cell_type": "code",
   "execution_count": 21,
   "metadata": {
    "execution": {
     "iopub.execute_input": "2020-08-12T02:18:54.564411Z",
     "iopub.status.busy": "2020-08-12T02:18:54.563774Z",
     "iopub.status.idle": "2020-08-12T02:18:54.567655Z",
     "shell.execute_reply": "2020-08-12T02:18:54.568211Z"
    },
    "papermill": {
     "duration": 0.020062,
     "end_time": "2020-08-12T02:18:54.568392",
     "exception": false,
     "start_time": "2020-08-12T02:18:54.548330",
     "status": "completed"
    },
    "tags": []
   },
   "outputs": [],
   "source": [
    "early=EarlyStopping(monitor='accuarcy',patience=4,mode='auto')"
   ]
  },
  {
   "cell_type": "code",
   "execution_count": 22,
   "metadata": {
    "execution": {
     "iopub.execute_input": "2020-08-12T02:18:54.597958Z",
     "iopub.status.busy": "2020-08-12T02:18:54.597380Z",
     "iopub.status.idle": "2020-08-12T02:20:37.572903Z",
     "shell.execute_reply": "2020-08-12T02:20:37.573497Z"
    },
    "papermill": {
     "duration": 102.99328,
     "end_time": "2020-08-12T02:20:37.573675",
     "exception": false,
     "start_time": "2020-08-12T02:18:54.580395",
     "status": "completed"
    },
    "tags": []
   },
   "outputs": [
    {
     "name": "stdout",
     "output_type": "stream",
     "text": [
      "Epoch 1/50\n",
      "110/110 [==============================] - ETA: 0s - loss: 4.0058 - accuracy: 0.6527 - recall: 0.5253WARNING:tensorflow:Early stopping conditioned on metric `accuarcy` which is not available. Available metrics are: loss,accuracy,recall,val_loss,val_accuracy,val_recall\n",
      "110/110 [==============================] - 135s 1s/step - loss: 4.0058 - accuracy: 0.6527 - recall: 0.5253 - val_loss: 3.2800 - val_accuracy: 0.0547 - val_recall: 0.0000e+00\n",
      "Epoch 2/50\n",
      "110/110 [==============================] - ETA: 0s - loss: 1.6684 - accuracy: 0.6908 - recall: 0.5644WARNING:tensorflow:Early stopping conditioned on metric `accuarcy` which is not available. Available metrics are: loss,accuracy,recall,val_loss,val_accuracy,val_recall\n",
      "110/110 [==============================] - 121s 1s/step - loss: 1.6684 - accuracy: 0.6908 - recall: 0.5644 - val_loss: 2.8780 - val_accuracy: 0.0398 - val_recall: 0.0000e+00\n",
      "Epoch 3/50\n",
      "110/110 [==============================] - ETA: 0s - loss: 1.1469 - accuracy: 0.7026 - recall: 0.5877WARNING:tensorflow:Early stopping conditioned on metric `accuarcy` which is not available. Available metrics are: loss,accuracy,recall,val_loss,val_accuracy,val_recall\n",
      "110/110 [==============================] - 116s 1s/step - loss: 1.1469 - accuracy: 0.7026 - recall: 0.5877 - val_loss: 2.5869 - val_accuracy: 0.1294 - val_recall: 0.1194\n",
      "Epoch 4/50\n",
      "110/110 [==============================] - ETA: 0s - loss: 1.0068 - accuracy: 0.7160 - recall: 0.5997WARNING:tensorflow:Early stopping conditioned on metric `accuarcy` which is not available. Available metrics are: loss,accuracy,recall,val_loss,val_accuracy,val_recall\n",
      "110/110 [==============================] - 115s 1s/step - loss: 1.0068 - accuracy: 0.7160 - recall: 0.5997 - val_loss: 2.3772 - val_accuracy: 0.1493 - val_recall: 0.0498\n",
      "Epoch 5/50\n",
      "110/110 [==============================] - ETA: 0s - loss: 0.9398 - accuracy: 0.7187 - recall: 0.6151WARNING:tensorflow:Early stopping conditioned on metric `accuarcy` which is not available. Available metrics are: loss,accuracy,recall,val_loss,val_accuracy,val_recall\n",
      "110/110 [==============================] - 110s 998ms/step - loss: 0.9398 - accuracy: 0.7187 - recall: 0.6151 - val_loss: 1.6474 - val_accuracy: 0.4527 - val_recall: 0.4328\n",
      "Epoch 6/50\n",
      "110/110 [==============================] - ETA: 0s - loss: 0.8800 - accuracy: 0.7297 - recall: 0.6282WARNING:tensorflow:Early stopping conditioned on metric `accuarcy` which is not available. Available metrics are: loss,accuracy,recall,val_loss,val_accuracy,val_recall\n",
      "110/110 [==============================] - 94s 852ms/step - loss: 0.8800 - accuracy: 0.7297 - recall: 0.6282 - val_loss: 1.5372 - val_accuracy: 0.4577 - val_recall: 0.2139\n",
      "Epoch 7/50\n",
      "110/110 [==============================] - ETA: 0s - loss: 0.8332 - accuracy: 0.7390 - recall: 0.6408WARNING:tensorflow:Early stopping conditioned on metric `accuarcy` which is not available. Available metrics are: loss,accuracy,recall,val_loss,val_accuracy,val_recall\n",
      "110/110 [==============================] - 104s 944ms/step - loss: 0.8332 - accuracy: 0.7390 - recall: 0.6408 - val_loss: 1.0499 - val_accuracy: 0.6617 - val_recall: 0.6070\n",
      "Epoch 8/50\n",
      "110/110 [==============================] - ETA: 0s - loss: 0.8151 - accuracy: 0.7387 - recall: 0.6381WARNING:tensorflow:Early stopping conditioned on metric `accuarcy` which is not available. Available metrics are: loss,accuracy,recall,val_loss,val_accuracy,val_recall\n",
      "110/110 [==============================] - 95s 864ms/step - loss: 0.8151 - accuracy: 0.7387 - recall: 0.6381 - val_loss: 1.2451 - val_accuracy: 0.6219 - val_recall: 0.6219\n",
      "Epoch 9/50\n",
      "110/110 [==============================] - ETA: 0s - loss: 0.8062 - accuracy: 0.7431 - recall: 0.6466WARNING:tensorflow:Early stopping conditioned on metric `accuarcy` which is not available. Available metrics are: loss,accuracy,recall,val_loss,val_accuracy,val_recall\n",
      "110/110 [==============================] - 97s 886ms/step - loss: 0.8062 - accuracy: 0.7431 - recall: 0.6466 - val_loss: 1.1282 - val_accuracy: 0.5672 - val_recall: 0.4179\n",
      "Epoch 10/50\n",
      "110/110 [==============================] - ETA: 0s - loss: 0.7773 - accuracy: 0.7530 - recall: 0.6565WARNING:tensorflow:Early stopping conditioned on metric `accuarcy` which is not available. Available metrics are: loss,accuracy,recall,val_loss,val_accuracy,val_recall\n",
      "110/110 [==============================] - 92s 838ms/step - loss: 0.7773 - accuracy: 0.7530 - recall: 0.6565 - val_loss: 0.9184 - val_accuracy: 0.6816 - val_recall: 0.5323\n",
      "Epoch 11/50\n",
      "110/110 [==============================] - ETA: 0s - loss: 0.7740 - accuracy: 0.7540 - recall: 0.6630WARNING:tensorflow:Early stopping conditioned on metric `accuarcy` which is not available. Available metrics are: loss,accuracy,recall,val_loss,val_accuracy,val_recall\n",
      "110/110 [==============================] - 92s 837ms/step - loss: 0.7740 - accuracy: 0.7540 - recall: 0.6630 - val_loss: 1.0241 - val_accuracy: 0.6468 - val_recall: 0.6020\n",
      "Epoch 12/50\n",
      "110/110 [==============================] - ETA: 0s - loss: 0.7854 - accuracy: 0.7558 - recall: 0.6596WARNING:tensorflow:Early stopping conditioned on metric `accuarcy` which is not available. Available metrics are: loss,accuracy,recall,val_loss,val_accuracy,val_recall\n",
      "110/110 [==============================] - 95s 865ms/step - loss: 0.7854 - accuracy: 0.7558 - recall: 0.6596 - val_loss: 0.9517 - val_accuracy: 0.6716 - val_recall: 0.6517\n",
      "Epoch 13/50\n",
      "110/110 [==============================] - ETA: 0s - loss: 0.7622 - accuracy: 0.7583 - recall: 0.6677WARNING:tensorflow:Early stopping conditioned on metric `accuarcy` which is not available. Available metrics are: loss,accuracy,recall,val_loss,val_accuracy,val_recall\n",
      "110/110 [==============================] - 92s 836ms/step - loss: 0.7622 - accuracy: 0.7583 - recall: 0.6677 - val_loss: 0.9792 - val_accuracy: 0.6169 - val_recall: 0.5274\n",
      "Epoch 14/50\n",
      "110/110 [==============================] - ETA: 0s - loss: 0.7677 - accuracy: 0.7597 - recall: 0.6594WARNING:tensorflow:Early stopping conditioned on metric `accuarcy` which is not available. Available metrics are: loss,accuracy,recall,val_loss,val_accuracy,val_recall\n",
      "110/110 [==============================] - 94s 858ms/step - loss: 0.7677 - accuracy: 0.7597 - recall: 0.6594 - val_loss: 1.0164 - val_accuracy: 0.6617 - val_recall: 0.5274\n",
      "Epoch 15/50\n",
      "110/110 [==============================] - ETA: 0s - loss: 0.7281 - accuracy: 0.7687 - recall: 0.6822WARNING:tensorflow:Early stopping conditioned on metric `accuarcy` which is not available. Available metrics are: loss,accuracy,recall,val_loss,val_accuracy,val_recall\n",
      "110/110 [==============================] - 92s 836ms/step - loss: 0.7281 - accuracy: 0.7687 - recall: 0.6822 - val_loss: 1.0948 - val_accuracy: 0.6318 - val_recall: 0.6269\n",
      "Epoch 16/50\n",
      "110/110 [==============================] - ETA: 0s - loss: 0.7258 - accuracy: 0.7640 - recall: 0.6814WARNING:tensorflow:Early stopping conditioned on metric `accuarcy` which is not available. Available metrics are: loss,accuracy,recall,val_loss,val_accuracy,val_recall\n",
      "110/110 [==============================] - 94s 859ms/step - loss: 0.7258 - accuracy: 0.7640 - recall: 0.6814 - val_loss: 0.9994 - val_accuracy: 0.6766 - val_recall: 0.5771\n",
      "Epoch 17/50\n",
      "110/110 [==============================] - ETA: 0s - loss: 0.7460 - accuracy: 0.7657 - recall: 0.6772WARNING:tensorflow:Early stopping conditioned on metric `accuarcy` which is not available. Available metrics are: loss,accuracy,recall,val_loss,val_accuracy,val_recall\n",
      "110/110 [==============================] - 95s 860ms/step - loss: 0.7460 - accuracy: 0.7657 - recall: 0.6772 - val_loss: 0.8000 - val_accuracy: 0.7463 - val_recall: 0.6169\n",
      "Epoch 18/50\n",
      "110/110 [==============================] - ETA: 0s - loss: 0.7816 - accuracy: 0.7573 - recall: 0.6762WARNING:tensorflow:Early stopping conditioned on metric `accuarcy` which is not available. Available metrics are: loss,accuracy,recall,val_loss,val_accuracy,val_recall\n",
      "110/110 [==============================] - 91s 827ms/step - loss: 0.7816 - accuracy: 0.7573 - recall: 0.6762 - val_loss: 0.8303 - val_accuracy: 0.7264 - val_recall: 0.6368\n",
      "Epoch 19/50\n",
      "110/110 [==============================] - ETA: 0s - loss: 0.7157 - accuracy: 0.7732 - recall: 0.6933WARNING:tensorflow:Early stopping conditioned on metric `accuarcy` which is not available. Available metrics are: loss,accuracy,recall,val_loss,val_accuracy,val_recall\n",
      "110/110 [==============================] - 91s 831ms/step - loss: 0.7157 - accuracy: 0.7732 - recall: 0.6933 - val_loss: 0.8003 - val_accuracy: 0.7562 - val_recall: 0.6716\n",
      "Epoch 20/50\n",
      "110/110 [==============================] - ETA: 0s - loss: 0.7211 - accuracy: 0.7664 - recall: 0.6888WARNING:tensorflow:Early stopping conditioned on metric `accuarcy` which is not available. Available metrics are: loss,accuracy,recall,val_loss,val_accuracy,val_recall\n",
      "110/110 [==============================] - 93s 842ms/step - loss: 0.7211 - accuracy: 0.7664 - recall: 0.6888 - val_loss: 0.9762 - val_accuracy: 0.6468 - val_recall: 0.5572\n",
      "Epoch 21/50\n",
      "110/110 [==============================] - ETA: 0s - loss: 0.7185 - accuracy: 0.7713 - recall: 0.6879WARNING:tensorflow:Early stopping conditioned on metric `accuarcy` which is not available. Available metrics are: loss,accuracy,recall,val_loss,val_accuracy,val_recall\n",
      "110/110 [==============================] - 90s 820ms/step - loss: 0.7185 - accuracy: 0.7713 - recall: 0.6879 - val_loss: 0.8547 - val_accuracy: 0.6716 - val_recall: 0.5771\n",
      "Epoch 22/50\n",
      "110/110 [==============================] - ETA: 0s - loss: 0.7045 - accuracy: 0.7798 - recall: 0.6995WARNING:tensorflow:Early stopping conditioned on metric `accuarcy` which is not available. Available metrics are: loss,accuracy,recall,val_loss,val_accuracy,val_recall\n",
      "110/110 [==============================] - 98s 892ms/step - loss: 0.7045 - accuracy: 0.7798 - recall: 0.6995 - val_loss: 1.3665 - val_accuracy: 0.6667 - val_recall: 0.6567\n",
      "Epoch 23/50\n",
      "110/110 [==============================] - ETA: 0s - loss: 0.7450 - accuracy: 0.7635 - recall: 0.6771WARNING:tensorflow:Early stopping conditioned on metric `accuarcy` which is not available. Available metrics are: loss,accuracy,recall,val_loss,val_accuracy,val_recall\n",
      "110/110 [==============================] - 92s 838ms/step - loss: 0.7450 - accuracy: 0.7635 - recall: 0.6771 - val_loss: 1.3140 - val_accuracy: 0.5522 - val_recall: 0.4925\n",
      "Epoch 24/50\n",
      "110/110 [==============================] - ETA: 0s - loss: 0.6849 - accuracy: 0.7807 - recall: 0.7086WARNING:tensorflow:Early stopping conditioned on metric `accuarcy` which is not available. Available metrics are: loss,accuracy,recall,val_loss,val_accuracy,val_recall\n",
      "110/110 [==============================] - 91s 829ms/step - loss: 0.6849 - accuracy: 0.7807 - recall: 0.7086 - val_loss: 1.1811 - val_accuracy: 0.5672 - val_recall: 0.5274\n",
      "Epoch 25/50\n",
      "110/110 [==============================] - ETA: 0s - loss: 0.6889 - accuracy: 0.7809 - recall: 0.7057WARNING:tensorflow:Early stopping conditioned on metric `accuarcy` which is not available. Available metrics are: loss,accuracy,recall,val_loss,val_accuracy,val_recall\n",
      "110/110 [==============================] - 92s 833ms/step - loss: 0.6889 - accuracy: 0.7809 - recall: 0.7057 - val_loss: 0.9139 - val_accuracy: 0.7065 - val_recall: 0.6617\n",
      "Epoch 26/50\n",
      "110/110 [==============================] - ETA: 0s - loss: 0.6877 - accuracy: 0.7812 - recall: 0.7068WARNING:tensorflow:Early stopping conditioned on metric `accuarcy` which is not available. Available metrics are: loss,accuracy,recall,val_loss,val_accuracy,val_recall\n",
      "110/110 [==============================] - 93s 835ms/step - loss: 0.6877 - accuracy: 0.7812 - recall: 0.7068 - val_loss: 1.0469 - val_accuracy: 0.6915 - val_recall: 0.3682\n",
      "Epoch 27/50\n",
      "110/110 [==============================] - ETA: 0s - loss: 0.6645 - accuracy: 0.7902 - recall: 0.7212WARNING:tensorflow:Early stopping conditioned on metric `accuarcy` which is not available. Available metrics are: loss,accuracy,recall,val_loss,val_accuracy,val_recall\n",
      "110/110 [==============================] - 93s 845ms/step - loss: 0.6645 - accuracy: 0.7902 - recall: 0.7212 - val_loss: 1.1076 - val_accuracy: 0.5771 - val_recall: 0.4577\n",
      "Epoch 28/50\n",
      "110/110 [==============================] - ETA: 0s - loss: 0.6525 - accuracy: 0.7910 - recall: 0.7223WARNING:tensorflow:Early stopping conditioned on metric `accuarcy` which is not available. Available metrics are: loss,accuracy,recall,val_loss,val_accuracy,val_recall\n",
      "110/110 [==============================] - 91s 825ms/step - loss: 0.6525 - accuracy: 0.7910 - recall: 0.7223 - val_loss: 0.9260 - val_accuracy: 0.6766 - val_recall: 0.5473\n",
      "Epoch 29/50\n",
      "110/110 [==============================] - ETA: 0s - loss: 0.6427 - accuracy: 0.7982 - recall: 0.7326WARNING:tensorflow:Early stopping conditioned on metric `accuarcy` which is not available. Available metrics are: loss,accuracy,recall,val_loss,val_accuracy,val_recall\n",
      "110/110 [==============================] - 91s 830ms/step - loss: 0.6427 - accuracy: 0.7982 - recall: 0.7326 - val_loss: 0.9403 - val_accuracy: 0.6915 - val_recall: 0.6418\n",
      "Epoch 30/50\n",
      "110/110 [==============================] - ETA: 0s - loss: 0.6391 - accuracy: 0.7985 - recall: 0.7335WARNING:tensorflow:Early stopping conditioned on metric `accuarcy` which is not available. Available metrics are: loss,accuracy,recall,val_loss,val_accuracy,val_recall\n",
      "110/110 [==============================] - 93s 848ms/step - loss: 0.6391 - accuracy: 0.7985 - recall: 0.7335 - val_loss: 0.8709 - val_accuracy: 0.7313 - val_recall: 0.6368\n",
      "Epoch 31/50\n",
      "110/110 [==============================] - ETA: 0s - loss: 0.6553 - accuracy: 0.7969 - recall: 0.7292WARNING:tensorflow:Early stopping conditioned on metric `accuarcy` which is not available. Available metrics are: loss,accuracy,recall,val_loss,val_accuracy,val_recall\n",
      "110/110 [==============================] - 92s 837ms/step - loss: 0.6553 - accuracy: 0.7969 - recall: 0.7292 - val_loss: 1.0311 - val_accuracy: 0.6766 - val_recall: 0.6368\n",
      "Epoch 32/50\n",
      "110/110 [==============================] - ETA: 0s - loss: 0.6527 - accuracy: 0.7988 - recall: 0.7313WARNING:tensorflow:Early stopping conditioned on metric `accuarcy` which is not available. Available metrics are: loss,accuracy,recall,val_loss,val_accuracy,val_recall\n",
      "110/110 [==============================] - 111s 1s/step - loss: 0.6527 - accuracy: 0.7988 - recall: 0.7313 - val_loss: 0.9114 - val_accuracy: 0.7114 - val_recall: 0.5224\n",
      "Epoch 33/50\n",
      "110/110 [==============================] - ETA: 0s - loss: 0.6356 - accuracy: 0.8042 - recall: 0.7426WARNING:tensorflow:Early stopping conditioned on metric `accuarcy` which is not available. Available metrics are: loss,accuracy,recall,val_loss,val_accuracy,val_recall\n",
      "110/110 [==============================] - 103s 940ms/step - loss: 0.6356 - accuracy: 0.8042 - recall: 0.7426 - val_loss: 0.9658 - val_accuracy: 0.7015 - val_recall: 0.6667\n",
      "Epoch 34/50\n",
      "110/110 [==============================] - ETA: 0s - loss: 0.6484 - accuracy: 0.7970 - recall: 0.7334WARNING:tensorflow:Early stopping conditioned on metric `accuarcy` which is not available. Available metrics are: loss,accuracy,recall,val_loss,val_accuracy,val_recall\n",
      "110/110 [==============================] - 95s 855ms/step - loss: 0.6484 - accuracy: 0.7970 - recall: 0.7334 - val_loss: 0.9773 - val_accuracy: 0.6617 - val_recall: 0.5871\n",
      "Epoch 35/50\n",
      "110/110 [==============================] - ETA: 0s - loss: 0.6145 - accuracy: 0.8060 - recall: 0.7494WARNING:tensorflow:Early stopping conditioned on metric `accuarcy` which is not available. Available metrics are: loss,accuracy,recall,val_loss,val_accuracy,val_recall\n",
      "110/110 [==============================] - 95s 860ms/step - loss: 0.6145 - accuracy: 0.8060 - recall: 0.7494 - val_loss: 1.3249 - val_accuracy: 0.5075 - val_recall: 0.3930\n",
      "Epoch 36/50\n",
      "110/110 [==============================] - ETA: 0s - loss: 0.6357 - accuracy: 0.8097 - recall: 0.7471WARNING:tensorflow:Early stopping conditioned on metric `accuarcy` which is not available. Available metrics are: loss,accuracy,recall,val_loss,val_accuracy,val_recall\n",
      "110/110 [==============================] - 91s 831ms/step - loss: 0.6357 - accuracy: 0.8097 - recall: 0.7471 - val_loss: 1.0594 - val_accuracy: 0.6667 - val_recall: 0.6169\n",
      "Epoch 37/50\n",
      "110/110 [==============================] - ETA: 0s - loss: 0.6072 - accuracy: 0.8129 - recall: 0.7567WARNING:tensorflow:Early stopping conditioned on metric `accuarcy` which is not available. Available metrics are: loss,accuracy,recall,val_loss,val_accuracy,val_recall\n",
      "110/110 [==============================] - 103s 936ms/step - loss: 0.6072 - accuracy: 0.8129 - recall: 0.7567 - val_loss: 0.9720 - val_accuracy: 0.6418 - val_recall: 0.5970\n",
      "Epoch 38/50\n",
      "110/110 [==============================] - ETA: 0s - loss: 0.5874 - accuracy: 0.8216 - recall: 0.7699WARNING:tensorflow:Early stopping conditioned on metric `accuarcy` which is not available. Available metrics are: loss,accuracy,recall,val_loss,val_accuracy,val_recall\n",
      "110/110 [==============================] - 92s 838ms/step - loss: 0.5874 - accuracy: 0.8216 - recall: 0.7699 - val_loss: 0.9893 - val_accuracy: 0.6915 - val_recall: 0.6567\n",
      "Epoch 39/50\n",
      "110/110 [==============================] - ETA: 0s - loss: 0.5958 - accuracy: 0.8197 - recall: 0.7638WARNING:tensorflow:Early stopping conditioned on metric `accuarcy` which is not available. Available metrics are: loss,accuracy,recall,val_loss,val_accuracy,val_recall\n",
      "110/110 [==============================] - 96s 876ms/step - loss: 0.5958 - accuracy: 0.8197 - recall: 0.7638 - val_loss: 0.8287 - val_accuracy: 0.7562 - val_recall: 0.6766\n",
      "Epoch 40/50\n",
      "110/110 [==============================] - ETA: 0s - loss: 0.5900 - accuracy: 0.8189 - recall: 0.7692WARNING:tensorflow:Early stopping conditioned on metric `accuarcy` which is not available. Available metrics are: loss,accuracy,recall,val_loss,val_accuracy,val_recall\n",
      "110/110 [==============================] - 92s 838ms/step - loss: 0.5900 - accuracy: 0.8189 - recall: 0.7692 - val_loss: 0.8389 - val_accuracy: 0.7214 - val_recall: 0.6866\n",
      "Epoch 41/50\n",
      "110/110 [==============================] - ETA: 0s - loss: 0.5713 - accuracy: 0.8302 - recall: 0.7846WARNING:tensorflow:Early stopping conditioned on metric `accuarcy` which is not available. Available metrics are: loss,accuracy,recall,val_loss,val_accuracy,val_recall\n",
      "110/110 [==============================] - 92s 833ms/step - loss: 0.5713 - accuracy: 0.8302 - recall: 0.7846 - val_loss: 0.8257 - val_accuracy: 0.7164 - val_recall: 0.6816\n",
      "Epoch 42/50\n",
      "110/110 [==============================] - ETA: 0s - loss: 0.6942 - accuracy: 0.8104 - recall: 0.7526WARNING:tensorflow:Early stopping conditioned on metric `accuarcy` which is not available. Available metrics are: loss,accuracy,recall,val_loss,val_accuracy,val_recall\n",
      "110/110 [==============================] - 92s 836ms/step - loss: 0.6942 - accuracy: 0.8104 - recall: 0.7526 - val_loss: 1.1434 - val_accuracy: 0.5821 - val_recall: 0.5124\n",
      "Epoch 43/50\n",
      "110/110 [==============================] - ETA: 0s - loss: 0.5747 - accuracy: 0.8283 - recall: 0.7844WARNING:tensorflow:Early stopping conditioned on metric `accuarcy` which is not available. Available metrics are: loss,accuracy,recall,val_loss,val_accuracy,val_recall\n",
      "110/110 [==============================] - 92s 832ms/step - loss: 0.5747 - accuracy: 0.8283 - recall: 0.7844 - val_loss: 0.8410 - val_accuracy: 0.7264 - val_recall: 0.6766\n",
      "Epoch 44/50\n",
      "110/110 [==============================] - ETA: 0s - loss: 0.5448 - accuracy: 0.8413 - recall: 0.7961WARNING:tensorflow:Early stopping conditioned on metric `accuarcy` which is not available. Available metrics are: loss,accuracy,recall,val_loss,val_accuracy,val_recall\n",
      "110/110 [==============================] - 92s 833ms/step - loss: 0.5448 - accuracy: 0.8413 - recall: 0.7961 - val_loss: 1.0096 - val_accuracy: 0.7114 - val_recall: 0.6866\n",
      "Epoch 45/50\n",
      "110/110 [==============================] - ETA: 0s - loss: 0.5630 - accuracy: 0.8356 - recall: 0.7925WARNING:tensorflow:Early stopping conditioned on metric `accuarcy` which is not available. Available metrics are: loss,accuracy,recall,val_loss,val_accuracy,val_recall\n",
      "110/110 [==============================] - 92s 840ms/step - loss: 0.5630 - accuracy: 0.8356 - recall: 0.7925 - val_loss: 0.9166 - val_accuracy: 0.6965 - val_recall: 0.6617\n",
      "Epoch 46/50\n",
      "110/110 [==============================] - ETA: 0s - loss: 0.5520 - accuracy: 0.8372 - recall: 0.7916WARNING:tensorflow:Early stopping conditioned on metric `accuarcy` which is not available. Available metrics are: loss,accuracy,recall,val_loss,val_accuracy,val_recall\n",
      "110/110 [==============================] - 91s 824ms/step - loss: 0.5520 - accuracy: 0.8372 - recall: 0.7916 - val_loss: 1.3245 - val_accuracy: 0.6667 - val_recall: 0.6468\n",
      "Epoch 47/50\n",
      "110/110 [==============================] - ETA: 0s - loss: 0.5685 - accuracy: 0.8378 - recall: 0.7941WARNING:tensorflow:Early stopping conditioned on metric `accuarcy` which is not available. Available metrics are: loss,accuracy,recall,val_loss,val_accuracy,val_recall\n",
      "110/110 [==============================] - 92s 836ms/step - loss: 0.5685 - accuracy: 0.8378 - recall: 0.7941 - val_loss: 0.9050 - val_accuracy: 0.6915 - val_recall: 0.6418\n",
      "Epoch 48/50\n",
      "110/110 [==============================] - ETA: 0s - loss: 0.5321 - accuracy: 0.8497 - recall: 0.8114WARNING:tensorflow:Early stopping conditioned on metric `accuarcy` which is not available. Available metrics are: loss,accuracy,recall,val_loss,val_accuracy,val_recall\n",
      "110/110 [==============================] - 93s 844ms/step - loss: 0.5321 - accuracy: 0.8497 - recall: 0.8114 - val_loss: 1.6219 - val_accuracy: 0.5323 - val_recall: 0.4925\n",
      "Epoch 49/50\n",
      "110/110 [==============================] - ETA: 0s - loss: 0.5272 - accuracy: 0.8503 - recall: 0.8151WARNING:tensorflow:Early stopping conditioned on metric `accuarcy` which is not available. Available metrics are: loss,accuracy,recall,val_loss,val_accuracy,val_recall\n",
      "110/110 [==============================] - 93s 845ms/step - loss: 0.5272 - accuracy: 0.8503 - recall: 0.8151 - val_loss: 0.9506 - val_accuracy: 0.7065 - val_recall: 0.6766\n",
      "Epoch 50/50\n",
      "110/110 [==============================] - ETA: 0s - loss: 0.5001 - accuracy: 0.8593 - recall: 0.8224WARNING:tensorflow:Early stopping conditioned on metric `accuarcy` which is not available. Available metrics are: loss,accuracy,recall,val_loss,val_accuracy,val_recall\n",
      "110/110 [==============================] - 93s 840ms/step - loss: 0.5001 - accuracy: 0.8593 - recall: 0.8224 - val_loss: 1.2640 - val_accuracy: 0.6617 - val_recall: 0.6318\n"
     ]
    },
    {
     "data": {
      "text/plain": [
       "<keras.callbacks.History at 0x14d52b340>"
      ]
     },
     "execution_count": 22,
     "metadata": {},
     "output_type": "execute_result"
    }
   ],
   "source": [
    "#Training our CNN\n",
    "model.fit(trainx,testx,epochs=50,batch_size=90,validation_data=(trainy, testy),callbacks=[early])"
   ]
  },
  {
   "cell_type": "code",
   "execution_count": 19,
   "metadata": {
    "execution": {
     "iopub.execute_input": "2020-08-12T02:20:37.817214Z",
     "iopub.status.busy": "2020-08-12T02:20:37.816335Z",
     "iopub.status.idle": "2020-08-12T02:20:38.019346Z",
     "shell.execute_reply": "2020-08-12T02:20:38.019814Z"
    },
    "papermill": {
     "duration": 0.331567,
     "end_time": "2020-08-12T02:20:38.019988",
     "exception": false,
     "start_time": "2020-08-12T02:20:37.688421",
     "status": "completed"
    },
    "tags": []
   },
   "outputs": [
    {
     "data": {
      "text/plain": [
       "<matplotlib.axes._subplots.AxesSubplot at 0x7f6148204910>"
      ]
     },
     "execution_count": 19,
     "metadata": {},
     "output_type": "execute_result"
    },
    {
     "data": {
      "text/plain": [
       "<Figure size 1080x360 with 0 Axes>"
      ]
     },
     "metadata": {},
     "output_type": "display_data"
    },
    {
     "data": {
      "image/png": "[encoded data removed]",
      "text/plain": [
       "<Figure size 432x288 with 1 Axes>"
      ]
     },
     "metadata": {
      "needs_background": "light"
     },
     "output_type": "display_data"
    }
   ],
   "source": [
    "#Visualizing Training and Validation Accuracy\n",
    "p.figure(figsize=(15,5))\n",
    "loss=pd.DataFrame(model.history.history)\n",
    "loss=loss[['accuracy','val_accuracy']]\n",
    "loss.plot()"
   ]
  },
  {
   "cell_type": "code",
   "execution_count": 20,
   "metadata": {
    "execution": {
     "iopub.execute_input": "2020-08-12T02:20:38.307329Z",
     "iopub.status.busy": "2020-08-12T02:20:38.306667Z",
     "iopub.status.idle": "2020-08-12T02:20:38.546977Z",
     "shell.execute_reply": "2020-08-12T02:20:38.546363Z"
    },
    "papermill": {
     "duration": 0.40665,
     "end_time": "2020-08-12T02:20:38.547127",
     "exception": false,
     "start_time": "2020-08-12T02:20:38.140477",
     "status": "completed"
    },
    "tags": []
   },
   "outputs": [
    {
     "name": "stdout",
     "output_type": "stream",
     "text": [
      "              precision    recall  f1-score   support\n",
      "\n",
      "           0       0.37      0.88      0.52         8\n",
      "           1       0.47      0.64      0.54        11\n",
      "           2       0.54      0.50      0.52        26\n",
      "           3       0.00      0.00      0.00         3\n",
      "           4       0.90      0.86      0.88       123\n",
      "           5       1.00      0.67      0.80         3\n",
      "           6       0.57      0.48      0.52        27\n",
      "\n",
      "    accuracy                           0.74       201\n",
      "   macro avg       0.55      0.57      0.54       201\n",
      "weighted avg       0.75      0.74      0.74       201\n",
      "\n"
     ]
    },
    {
     "name": "stderr",
     "output_type": "stream",
     "text": [
      "/opt/conda/lib/python3.7/site-packages/sklearn/metrics/_classification.py:1272: UndefinedMetricWarning: Precision and F-score are ill-defined and being set to 0.0 in labels with no predicted samples. Use `zero_division` parameter to control this behavior.\n",
      "  _warn_prf(average, modifier, msg_start, len(result))\n"
     ]
    }
   ],
   "source": [
    "#Building a report \n",
    "predictions=model.predict_classes(trainy)\n",
    "\n",
    "check=[]\n",
    "for i in range(len(testy)):\n",
    "    for j in range(7):\n",
    "        if(testy[i][j]==1):\n",
    "            check.append(j)\n",
    "check=np.asarray(check)\n",
    "\n",
    "print(classification_report(check,predictions))"
   ]
  },
  {
   "cell_type": "code",
   "execution_count": 23,
   "metadata": {
    "papermill": {
     "duration": 0.11721,
     "end_time": "2020-08-12T02:20:38.780423",
     "exception": false,
     "start_time": "2020-08-12T02:20:38.663213",
     "status": "completed"
    },
    "tags": []
   },
   "outputs": [],
   "source": [
    "# Save model and weights\n",
    "model.save(\"cancer_classifier.h5\")\n",
    "model.save_weights('cancer_classifier_weights',save_format='tf')"
   ]
  },
  {
   "cell_type": "code",
   "execution_count": null,
   "metadata": {},
   "outputs": [],
   "source": [
    "# Predict on Data\n",
    "\n",
    "def predictCancer(image_path):\n",
    "\n",
    "    test_data = load_data(image_path)\n",
    "    test_data = img_data_gen.flow_from_dataframe(dataframe=test_data,\n",
    "                                          x_col='FilePaths',\n",
    "                                          y_col='Labels',\n",
    "                                          target_size=IMG_SIZE,\n",
    "                                          color_mode='rgb',\n",
    "                                          class_mode='categorical',\n",
    "                                          batch_size=BATCH_SIZE,\n",
    "                                          shuffle=False, # necessary fpr confusion matrix\n",
    "                                          seed=1)\n",
    "    predictions = model.predict(test_data)\n",
    "\n",
    "    # Perform statistical normalization on data\n",
    "\n",
    "    outputValues = [[class_labels],\n",
    "                     [predictions]]\n",
    "\n",
    "    return outputValues\n",
    "\n",
    "test_image = '/Volumes/Extreme SSD/MakeDataset/Skin cancer ISIC The International Skin Imaging Collaboration/Image_Test'\n",
    "print(predictCancer(test_image))"
   ]
  }
 ],
 "metadata": {
  "kernelspec": {
   "display_name": "Python 3",
   "language": "python",
   "name": "python3"
  },
  "language_info": {
   "codemirror_mode": {
    "name": "ipython",
    "version": 3
   },
   "file_extension": ".py",
   "mimetype": "text/x-python",
   "name": "python",
   "nbconvert_exporter": "python",
   "pygments_lexer": "ipython3",
   "version": "3.9.10"
  },
  "papermill": {
   "duration": 131.938231,
   "end_time": "2020-08-12T02:20:40.266969",
   "environment_variables": {},
   "exception": null,
   "input_path": "__notebook__.ipynb",
   "output_path": "__notebook__.ipynb",
   "parameters": {},
   "start_time": "2020-08-12T02:18:28.328738",
   "version": "2.1.0"
  }
 },
 "nbformat": 4,
 "nbformat_minor": 4
}
