{
 "cells": [
  {
   "cell_type": "code",
   "execution_count": 15,
   "metadata": {},
   "outputs": [],
   "source": [
    "import coremltools as ct\n",
    "import tensorflow as tf"
   ]
  },
  {
   "cell_type": "code",
   "execution_count": 18,
   "metadata": {},
   "outputs": [
    {
     "name": "stderr",
     "output_type": "stream",
     "text": [
      "Running TensorFlow Graph Passes: 100%|██████████| 6/6 [00:00<00:00,  8.86 passes/s]\n",
      "Converting Frontend ==> MIL Ops: 100%|██████████| 48/48 [00:00<00:00, 488.47 ops/s]\n",
      "Running MIL Common passes: 100%|██████████| 34/34 [00:00<00:00, 231.34 passes/s]\n",
      "Running MIL Clean up passes: 100%|██████████| 9/9 [00:00<00:00, 88.52 passes/s]\n",
      "Translating MIL ==> NeuralNetwork Ops: 100%|██████████| 85/85 [00:00<00:00, 165.75 ops/s]\n"
     ]
    }
   ],
   "source": [
    "\n",
    "coreMLModel = ct.convert(\"cancer_classifier.h5\", inputs=[ct.ImageType()], classifier_config=ct.ClassifierConfig(\"labels2.txt\"))\n",
    "coreMLModel.save(\"dermAI_model.mlmodel\")"
   ]
  },
  {
   "cell_type": "code",
   "execution_count": null,
   "metadata": {},
   "outputs": [],
   "source": []
  }
 ],
 "metadata": {
  "interpreter": {
   "hash": "aee8b7b246df8f9039afb4144a1f6fd8d2ca17a180786b69acc140d282b71a49"
  },
  "kernelspec": {
   "display_name": "Python 3.9.10 64-bit",
   "language": "python",
   "name": "python3"
  },
  "language_info": {
   "codemirror_mode": {
    "name": "ipython",
    "version": 3
   },
   "file_extension": ".py",
   "mimetype": "text/x-python",
   "name": "python",
   "nbconvert_exporter": "python",
   "pygments_lexer": "ipython3",
   "version": "3.9.10"
  },
  "orig_nbformat": 4
 },
 "nbformat": 4,
 "nbformat_minor": 2
}
