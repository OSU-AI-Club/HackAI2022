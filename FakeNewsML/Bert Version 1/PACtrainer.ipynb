{
 "cells": [
  {
   "cell_type": "code",
   "execution_count": 1,
   "id": "c7b64f77-4abf-47c9-8b16-bad41970f047",
   "metadata": {},
   "outputs": [],
   "source": [
    "#Differences between this and other sets: \n",
    "#I tried to remove the source info from the sets so that this model will be usable in a chrome extension that will check text highlighted by the user\n",
    "#While the accuracy score is lower than other models, it still has a high accuracy while only reading the text value with excluded source identifying info (twitter/reuters)"
   ]
  },
  {
   "cell_type": "code",
   "execution_count": 2,
   "id": "85611acf-5565-4bec-bdee-79728b6c724a",
   "metadata": {},
   "outputs": [],
   "source": [
    "import numpy as np\n",
    "import pandas as pd\n",
    "import itertools\n",
    "from sklearn.model_selection import train_test_split\n",
    "from sklearn.feature_extraction.text import TfidfVectorizer\n",
    "from sklearn.linear_model import PassiveAggressiveClassifier\n",
    "from sklearn.metrics import accuracy_score, confusion_matrix\n",
    "import matplotlib.pyplot as plt\n",
    "import pickle"
   ]
  },
  {
   "cell_type": "code",
   "execution_count": 3,
   "id": "2aeaf963-0e37-4ef5-935c-1afd8f1e6d78",
   "metadata": {},
   "outputs": [
    {
     "data": {
      "text/html": [
       "<div>\n",
       "<style scoped>\n",
       "    .dataframe tbody tr th:only-of-type {\n",
       "        vertical-align: middle;\n",
       "    }\n",
       "\n",
       "    .dataframe tbody tr th {\n",
       "        vertical-align: top;\n",
       "    }\n",
       "\n",
       "    .dataframe thead th {\n",
       "        text-align: right;\n",
       "    }\n",
       "</style>\n",
       "<table border=\"1\" class=\"dataframe\">\n",
       "  <thead>\n",
       "    <tr style=\"text-align: right;\">\n",
       "      <th></th>\n",
       "      <th>Unnamed: 0</th>\n",
       "      <th>title</th>\n",
       "      <th>text</th>\n",
       "      <th>label</th>\n",
       "    </tr>\n",
       "  </thead>\n",
       "  <tbody>\n",
       "    <tr>\n",
       "      <th>0</th>\n",
       "      <td>8476</td>\n",
       "      <td>You Can Smell Hillary’s Fear</td>\n",
       "      <td>Daniel Greenfield, a Shillman Journalism Fello...</td>\n",
       "      <td>FAKE</td>\n",
       "    </tr>\n",
       "    <tr>\n",
       "      <th>1</th>\n",
       "      <td>10294</td>\n",
       "      <td>Watch The Exact Moment Paul Ryan Committed Pol...</td>\n",
       "      <td>Google Pinterest Digg Linkedin Reddit Stumbleu...</td>\n",
       "      <td>FAKE</td>\n",
       "    </tr>\n",
       "    <tr>\n",
       "      <th>2</th>\n",
       "      <td>3608</td>\n",
       "      <td>Kerry to go to Paris in gesture of sympathy</td>\n",
       "      <td>U.S. Secretary of State John F. Kerry said Mon...</td>\n",
       "      <td>REAL</td>\n",
       "    </tr>\n",
       "    <tr>\n",
       "      <th>3</th>\n",
       "      <td>10142</td>\n",
       "      <td>Bernie supporters on Twitter erupt in anger ag...</td>\n",
       "      <td>— Kaydee King (@KaydeeKing) November 9, 2016 T...</td>\n",
       "      <td>FAKE</td>\n",
       "    </tr>\n",
       "    <tr>\n",
       "      <th>4</th>\n",
       "      <td>875</td>\n",
       "      <td>The Battle of New York: Why This Primary Matters</td>\n",
       "      <td>It's primary day in New York and front-runners...</td>\n",
       "      <td>REAL</td>\n",
       "    </tr>\n",
       "  </tbody>\n",
       "</table>\n",
       "</div>"
      ],
      "text/plain": [
       "   Unnamed: 0                                              title  \\\n",
       "0        8476                       You Can Smell Hillary’s Fear   \n",
       "1       10294  Watch The Exact Moment Paul Ryan Committed Pol...   \n",
       "2        3608        Kerry to go to Paris in gesture of sympathy   \n",
       "3       10142  Bernie supporters on Twitter erupt in anger ag...   \n",
       "4         875   The Battle of New York: Why This Primary Matters   \n",
       "\n",
       "                                                text label  \n",
       "0  Daniel Greenfield, a Shillman Journalism Fello...  FAKE  \n",
       "1  Google Pinterest Digg Linkedin Reddit Stumbleu...  FAKE  \n",
       "2  U.S. Secretary of State John F. Kerry said Mon...  REAL  \n",
       "3  — Kaydee King (@KaydeeKing) November 9, 2016 T...  FAKE  \n",
       "4  It's primary day in New York and front-runners...  REAL  "
      ]
     },
     "execution_count": 3,
     "metadata": {},
     "output_type": "execute_result"
    }
   ],
   "source": [
    "df = pd.read_csv('/Users/adam/Main/HackAI/news.csv')\n",
    "df.shape\n",
    "df.head()"
   ]
  },
  {
   "cell_type": "code",
   "execution_count": null,
   "id": "d1be61ff-8c90-4305-9123-e5513f299ba1",
   "metadata": {},
   "outputs": [],
   "source": []
  },
  {
   "cell_type": "code",
   "execution_count": null,
   "id": "06e7a351-aa6c-4ad0-9381-27f7a12f6409",
   "metadata": {},
   "outputs": [],
   "source": []
  },
  {
   "cell_type": "code",
   "execution_count": 4,
   "id": "2c6a3c6c-7c03-4388-948a-36a45fa2eb9b",
   "metadata": {},
   "outputs": [
    {
     "data": {
      "text/plain": [
       "0    FAKE\n",
       "1    FAKE\n",
       "2    REAL\n",
       "3    FAKE\n",
       "4    REAL\n",
       "Name: label, dtype: object"
      ]
     },
     "execution_count": 4,
     "metadata": {},
     "output_type": "execute_result"
    }
   ],
   "source": [
    "#Get labels\n",
    "labels = df.label\n",
    "labels.head()"
   ]
  },
  {
   "cell_type": "code",
   "execution_count": 5,
   "id": "04fa3ea0-29d2-4e46-9f63-08197c68df52",
   "metadata": {},
   "outputs": [],
   "source": [
    "#Split 30-70 for test-train\n",
    "x_train, x_test, y_train, y_test = train_test_split(df['text'], labels, test_size=0.3, random_state=7)"
   ]
  },
  {
   "cell_type": "code",
   "execution_count": 6,
   "id": "08214c37-201c-459e-89c0-8a4b0b83a5e7",
   "metadata": {},
   "outputs": [],
   "source": [
    "#Initialize the vectorizer\n",
    "vectorizer = TfidfVectorizer(stop_words='english', max_df=0.7)\n",
    "vec_train = vectorizer.fit_transform(x_train)\n",
    "vec_test = vectorizer.transform(x_test)"
   ]
  },
  {
   "cell_type": "code",
   "execution_count": 7,
   "id": "91dd50b2-87e2-4cab-987a-d6c934f84032",
   "metadata": {},
   "outputs": [
    {
     "name": "stdout",
     "output_type": "stream",
     "text": [
      "Accuracy Score: 92.42504%\n"
     ]
    }
   ],
   "source": [
    "#Initialize PA Classifier\n",
    "PAC = PassiveAggressiveClassifier(max_iter=50) #initialize\n",
    "PAC.fit(vec_train, y_train) #fit to x/y train sets\n",
    "y_pred = PAC.predict(vec_test) #predict values from text_test files\n",
    "score = accuracy_score(y_test, y_pred) #score the results\n",
    "print(\"Accuracy Score: {0:.5%}\".format(score))"
   ]
  },
  {
   "cell_type": "code",
   "execution_count": 8,
   "id": "3fafbb04-6013-43f3-89e9-13e3c1888e3f",
   "metadata": {},
   "outputs": [
    {
     "name": "stdout",
     "output_type": "stream",
     "text": [
      "True Positives:  902\n",
      "False Negatives:  72\n",
      "False Positives:  72\n",
      "True Negatives:  855\n",
      "Accuracy Score: 92.42504%\n"
     ]
    },
    {
     "data": {
      "text/plain": [
       "Text(0, 0.5, 'Actual Answer')"
      ]
     },
     "execution_count": 8,
     "metadata": {},
     "output_type": "execute_result"
    },
    {
     "data": {
      "image/png": "[encoded data removed]",
      "text/plain": [
       "<Figure size 432x288 with 2 Axes>"
      ]
     },
     "metadata": {
      "needs_background": "light"
     },
     "output_type": "display_data"
    }
   ],
   "source": [
    "CM = confusion_matrix(y_test,y_pred, labels=['FAKE','REAL'])\n",
    "print('True Positives: ', CM[0][0])\n",
    "print('False Negatives: ', CM[0][1])\n",
    "print('False Positives: ', CM[1][0])\n",
    "print('True Negatives: ', CM[1][1])\n",
    "y_pred = PAC.predict(vec_test) #predict values from text_test files\n",
    "score = accuracy_score(y_test, y_pred) #score the results\n",
    "print(\"Accuracy Score: {0:.5%}\".format(score))\n",
    "plt.imshow(CM, interpolation='nearest', cmap=plt.cm.Blues)\n",
    "plt.title(\"Confusion Matrix\")\n",
    "plt.colorbar()\n",
    "tick_marks = np.arange(len(['FAKE', 'REAL']))\n",
    "plt.xticks(tick_marks, ['FAKE', 'REAL'])\n",
    "plt.yticks(tick_marks, ['FAKE', 'REAL'])\n",
    "plt.xlabel('Predicted Answer')\n",
    "plt.ylabel('Actual Answer')"
   ]
  },
  {
   "cell_type": "code",
   "execution_count": 9,
   "id": "2d927500-246a-449b-aad8-13fb87a7817e",
   "metadata": {},
   "outputs": [],
   "source": [
    "modelname = 'Model_pacTextOnly.pkl'\n",
    "vectorname = 'Vectorizer_pacTextOnly.pkl'\n",
    "pickle.dump(PAC, open(modelname, 'wb'))\n",
    "pickle.dump(vectorizer, open(vectorname, 'wb'))"
   ]
  }
 ],
 "metadata": {
  "kernelspec": {
   "display_name": "Python 3 (ipykernel)",
   "language": "python",
   "name": "python3"
  },
  "language_info": {
   "codemirror_mode": {
    "name": "ipython",
    "version": 3
   },
   "file_extension": ".py",
   "mimetype": "text/x-python",
   "name": "python",
   "nbconvert_exporter": "python",
   "pygments_lexer": "ipython3",
   "version": "3.9.10"
  }
 },
 "nbformat": 4,
 "nbformat_minor": 5
}
