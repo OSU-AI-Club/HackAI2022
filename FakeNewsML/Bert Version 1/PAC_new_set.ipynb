{
 "cells": [
  {
   "cell_type": "code",
   "execution_count": 1,
   "id": "c7b64f77-4abf-47c9-8b16-bad41970f047",
   "metadata": {},
   "outputs": [],
   "source": [
    "#Differences between this and other sets: \n",
    "#I tried to remove the source info from the sets so that this model will be usable in a chrome extension that will check text highlighted by the user\n",
    "#While the accuracy score is lower than other models, it still has a high accuracy while only reading the text value with excluded source identifying info (twitter/reuters)"
   ]
  },
  {
   "cell_type": "code",
   "execution_count": 2,
   "id": "85611acf-5565-4bec-bdee-79728b6c724a",
   "metadata": {},
   "outputs": [],
   "source": [
    "import numpy as np\n",
    "import pandas as pd\n",
    "import itertools\n",
    "from sklearn.model_selection import train_test_split\n",
    "from sklearn.feature_extraction.text import TfidfVectorizer\n",
    "from sklearn.linear_model import PassiveAggressiveClassifier\n",
    "from sklearn.metrics import accuracy_score, confusion_matrix\n",
    "import matplotlib.pyplot as plt\n",
    "import pickle"
   ]
  },
  {
   "cell_type": "code",
   "execution_count": 3,
   "id": "2aeaf963-0e37-4ef5-935c-1afd8f1e6d78",
   "metadata": {},
   "outputs": [
    {
     "data": {
      "text/html": [
       "<div>\n",
       "<style scoped>\n",
       "    .dataframe tbody tr th:only-of-type {\n",
       "        vertical-align: middle;\n",
       "    }\n",
       "\n",
       "    .dataframe tbody tr th {\n",
       "        vertical-align: top;\n",
       "    }\n",
       "\n",
       "    .dataframe thead th {\n",
       "        text-align: right;\n",
       "    }\n",
       "</style>\n",
       "<table border=\"1\" class=\"dataframe\">\n",
       "  <thead>\n",
       "    <tr style=\"text-align: right;\">\n",
       "      <th></th>\n",
       "      <th>title</th>\n",
       "      <th>text</th>\n",
       "      <th>subject</th>\n",
       "      <th>date</th>\n",
       "      <th>label</th>\n",
       "    </tr>\n",
       "  </thead>\n",
       "  <tbody>\n",
       "    <tr>\n",
       "      <th>0</th>\n",
       "      <td>As U.S. budget fight looms, Republicans flip t...</td>\n",
       "      <td>WASHINGTON (Reuters) - The head of a conservat...</td>\n",
       "      <td>politicsNews</td>\n",
       "      <td>December 31, 2017</td>\n",
       "      <td>REAL</td>\n",
       "    </tr>\n",
       "    <tr>\n",
       "      <th>1</th>\n",
       "      <td>U.S. military to accept transgender recruits o...</td>\n",
       "      <td>WASHINGTON (Reuters) - Transgender people will...</td>\n",
       "      <td>politicsNews</td>\n",
       "      <td>December 29, 2017</td>\n",
       "      <td>REAL</td>\n",
       "    </tr>\n",
       "    <tr>\n",
       "      <th>2</th>\n",
       "      <td>Senior U.S. Republican senator: 'Let Mr. Muell...</td>\n",
       "      <td>WASHINGTON (Reuters) - The special counsel inv...</td>\n",
       "      <td>politicsNews</td>\n",
       "      <td>December 31, 2017</td>\n",
       "      <td>REAL</td>\n",
       "    </tr>\n",
       "    <tr>\n",
       "      <th>3</th>\n",
       "      <td>FBI Russia probe helped by Australian diplomat...</td>\n",
       "      <td>WASHINGTON (Reuters) - Trump campaign adviser ...</td>\n",
       "      <td>politicsNews</td>\n",
       "      <td>December 30, 2017</td>\n",
       "      <td>REAL</td>\n",
       "    </tr>\n",
       "    <tr>\n",
       "      <th>4</th>\n",
       "      <td>Trump wants Postal Service to charge 'much mor...</td>\n",
       "      <td>SEATTLE/WASHINGTON (Reuters) - President Donal...</td>\n",
       "      <td>politicsNews</td>\n",
       "      <td>December 29, 2017</td>\n",
       "      <td>REAL</td>\n",
       "    </tr>\n",
       "    <tr>\n",
       "      <th>5</th>\n",
       "      <td>White House, Congress prepare for talks on spe...</td>\n",
       "      <td>WEST PALM BEACH, Fla./WASHINGTON (Reuters) - T...</td>\n",
       "      <td>politicsNews</td>\n",
       "      <td>December 29, 2017</td>\n",
       "      <td>REAL</td>\n",
       "    </tr>\n",
       "    <tr>\n",
       "      <th>6</th>\n",
       "      <td>Trump says Russia probe will be fair, but time...</td>\n",
       "      <td>WEST PALM BEACH, Fla (Reuters) - President Don...</td>\n",
       "      <td>politicsNews</td>\n",
       "      <td>December 29, 2017</td>\n",
       "      <td>REAL</td>\n",
       "    </tr>\n",
       "    <tr>\n",
       "      <th>7</th>\n",
       "      <td>Factbox: Trump on Twitter (Dec 29) - Approval ...</td>\n",
       "      <td>The following statements were posted to the ve...</td>\n",
       "      <td>politicsNews</td>\n",
       "      <td>December 29, 2017</td>\n",
       "      <td>REAL</td>\n",
       "    </tr>\n",
       "    <tr>\n",
       "      <th>8</th>\n",
       "      <td>Trump on Twitter (Dec 28) - Global Warming</td>\n",
       "      <td>The following statements were posted to the ve...</td>\n",
       "      <td>politicsNews</td>\n",
       "      <td>December 29, 2017</td>\n",
       "      <td>REAL</td>\n",
       "    </tr>\n",
       "    <tr>\n",
       "      <th>9</th>\n",
       "      <td>Alabama official to certify Senator-elect Jone...</td>\n",
       "      <td>WASHINGTON (Reuters) - Alabama Secretary of St...</td>\n",
       "      <td>politicsNews</td>\n",
       "      <td>December 28, 2017</td>\n",
       "      <td>REAL</td>\n",
       "    </tr>\n",
       "  </tbody>\n",
       "</table>\n",
       "</div>"
      ],
      "text/plain": [
       "                                               title  \\\n",
       "0  As U.S. budget fight looms, Republicans flip t...   \n",
       "1  U.S. military to accept transgender recruits o...   \n",
       "2  Senior U.S. Republican senator: 'Let Mr. Muell...   \n",
       "3  FBI Russia probe helped by Australian diplomat...   \n",
       "4  Trump wants Postal Service to charge 'much mor...   \n",
       "5  White House, Congress prepare for talks on spe...   \n",
       "6  Trump says Russia probe will be fair, but time...   \n",
       "7  Factbox: Trump on Twitter (Dec 29) - Approval ...   \n",
       "8         Trump on Twitter (Dec 28) - Global Warming   \n",
       "9  Alabama official to certify Senator-elect Jone...   \n",
       "\n",
       "                                                text       subject  \\\n",
       "0  WASHINGTON (Reuters) - The head of a conservat...  politicsNews   \n",
       "1  WASHINGTON (Reuters) - Transgender people will...  politicsNews   \n",
       "2  WASHINGTON (Reuters) - The special counsel inv...  politicsNews   \n",
       "3  WASHINGTON (Reuters) - Trump campaign adviser ...  politicsNews   \n",
       "4  SEATTLE/WASHINGTON (Reuters) - President Donal...  politicsNews   \n",
       "5  WEST PALM BEACH, Fla./WASHINGTON (Reuters) - T...  politicsNews   \n",
       "6  WEST PALM BEACH, Fla (Reuters) - President Don...  politicsNews   \n",
       "7  The following statements were posted to the ve...  politicsNews   \n",
       "8  The following statements were posted to the ve...  politicsNews   \n",
       "9  WASHINGTON (Reuters) - Alabama Secretary of St...  politicsNews   \n",
       "\n",
       "                 date label  \n",
       "0  December 31, 2017   REAL  \n",
       "1  December 29, 2017   REAL  \n",
       "2  December 31, 2017   REAL  \n",
       "3  December 30, 2017   REAL  \n",
       "4  December 29, 2017   REAL  \n",
       "5  December 29, 2017   REAL  \n",
       "6  December 29, 2017   REAL  \n",
       "7  December 29, 2017   REAL  \n",
       "8  December 29, 2017   REAL  \n",
       "9  December 28, 2017   REAL  "
      ]
     },
     "execution_count": 3,
     "metadata": {},
     "output_type": "execute_result"
    }
   ],
   "source": [
    "#Load True Articles and Apply true label, remove Reuters header\n",
    "trueDF = pd.read_csv('/Users/adam/Main/HackAI/True.csv')\n",
    "trueDF['label'] = 'REAL'\n",
    "#Common prefixes\n",
    "twitterParse = '@realdonaldtrump : - '\n",
    "reutersParse = \"(reuters) - \"\n",
    "#Remove prefixes\n",
    "#for index, row in trueDF.iterrows():\n",
    "#    text = row['text'].lower()\n",
    " #   if reutersParse in text:\n",
    " #       text = text[text.index(reutersParse)+len(reutersParse):]\n",
    " #   elif twitterParse in text:\n",
    " #       #row['text'] = text[text.index(twitterParse)+len(twitterParse):]\n",
    " #       trueDF.drop(index)\n",
    " #   row['text'] = text\n",
    "trueDF.shape\n",
    "trueDF.head(10)"
   ]
  },
  {
   "cell_type": "code",
   "execution_count": 4,
   "id": "d1be61ff-8c90-4305-9123-e5513f299ba1",
   "metadata": {},
   "outputs": [],
   "source": [
    "#Load Fake Articles and Apply fake label\n",
    "falseDF = pd.read_csv('/Users/adam/Main/HackAI/Fake.csv')\n",
    "falseDF['label'] = 'FAKE'\n",
    "falseDF.shape\n",
    "falseDF.head(10)\n",
    "for index, row in trueDF.iterrows():\n",
    "    row['text'] = row['text'].lower()"
   ]
  },
  {
   "cell_type": "code",
   "execution_count": 5,
   "id": "06e7a351-aa6c-4ad0-9381-27f7a12f6409",
   "metadata": {},
   "outputs": [
    {
     "data": {
      "text/html": [
       "<div>\n",
       "<style scoped>\n",
       "    .dataframe tbody tr th:only-of-type {\n",
       "        vertical-align: middle;\n",
       "    }\n",
       "\n",
       "    .dataframe tbody tr th {\n",
       "        vertical-align: top;\n",
       "    }\n",
       "\n",
       "    .dataframe thead th {\n",
       "        text-align: right;\n",
       "    }\n",
       "</style>\n",
       "<table border=\"1\" class=\"dataframe\">\n",
       "  <thead>\n",
       "    <tr style=\"text-align: right;\">\n",
       "      <th></th>\n",
       "      <th>title</th>\n",
       "      <th>text</th>\n",
       "      <th>subject</th>\n",
       "      <th>date</th>\n",
       "      <th>label</th>\n",
       "    </tr>\n",
       "  </thead>\n",
       "  <tbody>\n",
       "    <tr>\n",
       "      <th>14891</th>\n",
       "      <td>Arab countries in row with Qatar are not inter...</td>\n",
       "      <td>doha (reuters) - qatar s emir sheikh tamim bin...</td>\n",
       "      <td>worldnews</td>\n",
       "      <td>November 14, 2017</td>\n",
       "      <td>REAL</td>\n",
       "    </tr>\n",
       "    <tr>\n",
       "      <th>154</th>\n",
       "      <td>Former Ambassador Accuses Trump Of Violating ...</td>\n",
       "      <td>While the Trump administration is still reelin...</td>\n",
       "      <td>News</td>\n",
       "      <td>November 1, 2017</td>\n",
       "      <td>FAKE</td>\n",
       "    </tr>\n",
       "    <tr>\n",
       "      <th>855</th>\n",
       "      <td>Homophobic Kansas Lawmaker Gleefully Harasses...</td>\n",
       "      <td>We all know that the GOP is the party of anti-...</td>\n",
       "      <td>News</td>\n",
       "      <td>July 14, 2017</td>\n",
       "      <td>FAKE</td>\n",
       "    </tr>\n",
       "    <tr>\n",
       "      <th>2097</th>\n",
       "      <td>As Trump Takes 6th Golf Trip As President The...</td>\n",
       "      <td>Trump spent his the sixth weekend golfing and ...</td>\n",
       "      <td>News</td>\n",
       "      <td>March 18, 2017</td>\n",
       "      <td>FAKE</td>\n",
       "    </tr>\n",
       "    <tr>\n",
       "      <th>3660</th>\n",
       "      <td>George Takei Just B*tch-Slapped Trump After H...</td>\n",
       "      <td>If you ve been paying attention, you know that...</td>\n",
       "      <td>News</td>\n",
       "      <td>November 27, 2016</td>\n",
       "      <td>FAKE</td>\n",
       "    </tr>\n",
       "  </tbody>\n",
       "</table>\n",
       "</div>"
      ],
      "text/plain": [
       "                                                   title  \\\n",
       "14891  Arab countries in row with Qatar are not inter...   \n",
       "154     Former Ambassador Accuses Trump Of Violating ...   \n",
       "855     Homophobic Kansas Lawmaker Gleefully Harasses...   \n",
       "2097    As Trump Takes 6th Golf Trip As President The...   \n",
       "3660    George Takei Just B*tch-Slapped Trump After H...   \n",
       "\n",
       "                                                    text    subject  \\\n",
       "14891  doha (reuters) - qatar s emir sheikh tamim bin...  worldnews   \n",
       "154    While the Trump administration is still reelin...       News   \n",
       "855    We all know that the GOP is the party of anti-...       News   \n",
       "2097   Trump spent his the sixth weekend golfing and ...       News   \n",
       "3660   If you ve been paying attention, you know that...       News   \n",
       "\n",
       "                     date label  \n",
       "14891  November 14, 2017   REAL  \n",
       "154      November 1, 2017  FAKE  \n",
       "855         July 14, 2017  FAKE  \n",
       "2097       March 18, 2017  FAKE  \n",
       "3660    November 27, 2016  FAKE  "
      ]
     },
     "execution_count": 5,
     "metadata": {},
     "output_type": "execute_result"
    }
   ],
   "source": [
    "#compile information\n",
    "testDF = pd.concat([trueDF, falseDF])\n",
    "df = testDF.sample(frac = 1)\n",
    "df.shape\n",
    "df.head()"
   ]
  },
  {
   "cell_type": "code",
   "execution_count": 6,
   "id": "2c6a3c6c-7c03-4388-948a-36a45fa2eb9b",
   "metadata": {},
   "outputs": [
    {
     "data": {
      "text/plain": [
       "14891    REAL\n",
       "154      FAKE\n",
       "855      FAKE\n",
       "2097     FAKE\n",
       "3660     FAKE\n",
       "Name: label, dtype: object"
      ]
     },
     "execution_count": 6,
     "metadata": {},
     "output_type": "execute_result"
    }
   ],
   "source": [
    "#Get labels\n",
    "labels = df.label\n",
    "labels.head()"
   ]
  },
  {
   "cell_type": "code",
   "execution_count": 7,
   "id": "04fa3ea0-29d2-4e46-9f63-08197c68df52",
   "metadata": {},
   "outputs": [],
   "source": [
    "#Split 30-70 for test-train\n",
    "x_train, x_test, y_train, y_test = train_test_split(df['text'], labels, test_size=0.3, random_state=7)"
   ]
  },
  {
   "cell_type": "code",
   "execution_count": 8,
   "id": "08214c37-201c-459e-89c0-8a4b0b83a5e7",
   "metadata": {},
   "outputs": [],
   "source": [
    "#Initialize the vectorizer\n",
    "vectorizer = TfidfVectorizer(stop_words='english', max_df=0.7)\n",
    "vec_train = vectorizer.fit_transform(x_train)\n",
    "vec_test = vectorizer.transform(x_test)"
   ]
  },
  {
   "cell_type": "code",
   "execution_count": 9,
   "id": "91dd50b2-87e2-4cab-987a-d6c934f84032",
   "metadata": {},
   "outputs": [
    {
     "name": "stdout",
     "output_type": "stream",
     "text": [
      "Accuracy Score: 99.29473%\n"
     ]
    }
   ],
   "source": [
    "#Initialize PA Classifier\n",
    "PAC = PassiveAggressiveClassifier(max_iter=50) #initialize\n",
    "PAC.fit(vec_train, y_train) #fit to x/y train sets\n",
    "y_pred = PAC.predict(vec_test) #predict values from text_test files\n",
    "score = accuracy_score(y_test, y_pred) #score the results\n",
    "print(\"Accuracy Score: {0:.5%}\".format(score))"
   ]
  },
  {
   "cell_type": "code",
   "execution_count": 10,
   "id": "3fafbb04-6013-43f3-89e9-13e3c1888e3f",
   "metadata": {},
   "outputs": [
    {
     "name": "stdout",
     "output_type": "stream",
     "text": [
      "True Positives:  6991\n",
      "False Negatives:  58\n",
      "False Positives:  37\n",
      "True Negatives:  6384\n",
      "Accuracy Score: 99.29473%\n"
     ]
    },
    {
     "data": {
      "text/plain": [
       "Text(0, 0.5, 'Actual Answer')"
      ]
     },
     "execution_count": 10,
     "metadata": {},
     "output_type": "execute_result"
    },
    {
     "data": {
      "image/png": "[encoded data removed]",
      "text/plain": [
       "<Figure size 432x288 with 2 Axes>"
      ]
     },
     "metadata": {
      "needs_background": "light"
     },
     "output_type": "display_data"
    }
   ],
   "source": [
    "CM = confusion_matrix(y_test,y_pred, labels=['FAKE','REAL'])\n",
    "print('True Positives: ', CM[0][0])\n",
    "print('False Negatives: ', CM[0][1])\n",
    "print('False Positives: ', CM[1][0])\n",
    "print('True Negatives: ', CM[1][1])\n",
    "y_pred = PAC.predict(vec_test) #predict values from text_test files\n",
    "score = accuracy_score(y_test, y_pred) #score the results\n",
    "print(\"Accuracy Score: {0:.5%}\".format(score))\n",
    "plt.imshow(CM, interpolation='nearest', cmap=plt.cm.Blues)\n",
    "plt.title(\"Confusion Matrix\")\n",
    "plt.colorbar()\n",
    "tick_marks = np.arange(len(['FAKE', 'REAL']))\n",
    "plt.xticks(tick_marks, ['FAKE', 'REAL'])\n",
    "plt.yticks(tick_marks, ['FAKE', 'REAL'])\n",
    "plt.xlabel('Predicted Answer')\n",
    "plt.ylabel('Actual Answer')"
   ]
  },
  {
   "cell_type": "code",
   "execution_count": 11,
   "id": "2d927500-246a-449b-aad8-13fb87a7817e",
   "metadata": {},
   "outputs": [],
   "source": [
    "modelname = 'Model_pacTextOnly.pkl'\n",
    "vectorname = 'Vectorizer_pacTextOnly.pkl'\n",
    "pickle.dump(PAC, open(modelname, 'wb'))\n",
    "pickle.dump(vectorizer, open(vectorname, 'wb'))"
   ]
  }
 ],
 "metadata": {
  "kernelspec": {
   "display_name": "Python 3 (ipykernel)",
   "language": "python",
   "name": "python3"
  },
  "language_info": {
   "codemirror_mode": {
    "name": "ipython",
    "version": 3
   },
   "file_extension": ".py",
   "mimetype": "text/x-python",
   "name": "python",
   "nbconvert_exporter": "python",
   "pygments_lexer": "ipython3",
   "version": "3.9.10"
  }
 },
 "nbformat": 4,
 "nbformat_minor": 5
}
